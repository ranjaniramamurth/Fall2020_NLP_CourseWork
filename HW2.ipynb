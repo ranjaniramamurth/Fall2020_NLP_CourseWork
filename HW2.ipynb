{
 "cells": [
  {
   "cell_type": "markdown",
   "metadata": {},
   "source": [
    "## <center>HW2</center>"
   ]
  },
  {
   "cell_type": "markdown",
   "metadata": {},
   "source": [
    "### Team Members - <br><ol><li>Ananya Kondiparthy    skondiparthy@scu.edu</li><li>Rajshri Sharma  rsharma2@scu.edu</li><li>Laura Espinosa lespinosa@scu.edu</li><li>Deivasubharanjani Panduranganramamurthy dpanduranganramamurt@scu.edu</li><li>Dnyanai Surkutwar dsurkutwar@scu.edu</li>\n",
    "\n"
   ]
  },
  {
   "cell_type": "markdown",
   "metadata": {},
   "source": [
    "## Importing  Libraries"
   ]
  },
  {
   "cell_type": "code",
   "execution_count": 2,
   "metadata": {},
   "outputs": [
    {
     "name": "stderr",
     "output_type": "stream",
     "text": [
      "[nltk_data] Downloading package gutenberg to /root/nltk_data...\n",
      "[nltk_data]   Package gutenberg is already up-to-date!\n",
      "[nltk_data] Downloading package genesis to /root/nltk_data...\n",
      "[nltk_data]   Package genesis is already up-to-date!\n",
      "[nltk_data] Downloading package inaugural to /root/nltk_data...\n",
      "[nltk_data]   Package inaugural is already up-to-date!\n",
      "[nltk_data] Downloading package nps_chat to /root/nltk_data...\n",
      "[nltk_data]   Package nps_chat is already up-to-date!\n",
      "[nltk_data] Downloading package webtext to /root/nltk_data...\n",
      "[nltk_data]   Package webtext is already up-to-date!\n",
      "[nltk_data] Downloading package treebank to /root/nltk_data...\n",
      "[nltk_data]   Package treebank is already up-to-date!\n"
     ]
    },
    {
     "data": {
      "text/plain": [
       "True"
      ]
     },
     "execution_count": 2,
     "metadata": {},
     "output_type": "execute_result"
    }
   ],
   "source": [
    "import nltk\n",
    "nltk.download('gutenberg')\n",
    "nltk.download('genesis')\n",
    "nltk.download('inaugural')\n",
    "nltk.download('nps_chat')\n",
    "nltk.download('webtext')\n",
    "nltk.download('treebank')\n"
   ]
  },
  {
   "cell_type": "code",
   "execution_count": 2,
   "metadata": {},
   "outputs": [
    {
     "name": "stdout",
     "output_type": "stream",
     "text": [
      "*** Introductory Examples for the NLTK Book ***\n",
      "Loading text1, ..., text9 and sent1, ..., sent9\n",
      "Type the name of the text or sentence to view it.\n",
      "Type: 'texts()' or 'sents()' to list the materials.\n",
      "text1: Moby Dick by Herman Melville 1851\n",
      "text2: Sense and Sensibility by Jane Austen 1811\n",
      "text3: The Book of Genesis\n",
      "text4: Inaugural Address Corpus\n",
      "text5: Chat Corpus\n",
      "text6: Monty Python and the Holy Grail\n",
      "text7: Wall Street Journal\n",
      "text8: Personals Corpus\n",
      "text9: The Man Who Was Thursday by G . K . Chesterton 1908\n"
     ]
    }
   ],
   "source": [
    "from nltk.book import *"
   ]
  },
  {
   "cell_type": "markdown",
   "metadata": {},
   "source": [
    "## Q1) Try using the Python interpreter as a calculator, and typing expressions like 12 / (4 + 1)."
   ]
  },
  {
   "cell_type": "code",
   "execution_count": 1,
   "metadata": {},
   "outputs": [
    {
     "name": "stdout",
     "output_type": "stream",
     "text": [
      "3142930641582938830174357788501626427282669988762475256374173175398995908420104023465432599069702289330964075081611719197835869803511992549376\n"
     ]
    }
   ],
   "source": [
    "print(26**100)"
   ]
  },
  {
   "cell_type": "markdown",
   "metadata": {},
   "source": [
    "## Q2)Given an alphabet of 26 letters, there are 26 to the power 10, or 26 ** 10, ten-letter strings we can form. That works out to 141167095653376. How many hundred-letter strings are possible?"
   ]
  },
  {
   "cell_type": "markdown",
   "metadata": {},
   "source": [
    "## Q3) The Python multiplication operation can be applied to lists. What happens when you type ['Monty', 'Python'] * 20, or 3 * sent1?"
   ]
  },
  {
   "cell_type": "markdown",
   "metadata": {},
   "source": [
    "## Q4)  Review 1 on computing with language. How many words are there in text2? How many distinct words are there?"
   ]
  },
  {
   "cell_type": "markdown",
   "metadata": {},
   "source": [
    "## Q5) Compare the lexical diversity scores for humor and romance fiction in 1.1. Which genre is more lexically diverse? <img src=\"imgs/Q5.JPG\">"
   ]
  },
  {
   "cell_type": "markdown",
   "metadata": {},
   "source": [
    "## Q6) Produce a dispersion plot of the four main protagonists in Sense and Sensibility: Elinor, Marianne, Edward, and Willoughby. What can you observe about the different roles played by the males and females in this novel? Can you identify the couples?"
   ]
  },
  {
   "cell_type": "markdown",
   "metadata": {},
   "source": [
    "## Q7) Find the collocations in text5."
   ]
  },
  {
   "cell_type": "code",
   "execution_count": 71,
   "metadata": {},
   "outputs": [
    {
     "name": "stdout",
     "output_type": "stream",
     "text": [
      "wanna chat\n",
      "PART JOIN\n",
      "MODE #14-19teens\n",
      "JOIN PART\n",
      "PART PART\n",
      "cute.-ass MP3\n",
      "MP3 player\n",
      "JOIN JOIN\n",
      "times .. .\n",
      "ACTION watches\n",
      "guys wanna\n",
      "song lasts\n",
      "last night\n",
      "ACTION sits\n",
      "-...)...- S.M.R.\n",
      "Lime Player\n",
      "Player 12%\n",
      "dont know\n",
      "lez gurls\n",
      "long time\n"
     ]
    }
   ],
   "source": [
    "## https://github.com/nltk/nltk_book/issues/224 , https://github.com/nltk/nltk/issues/2299\n",
    "## Issue still open in git for collocations() not working bug. Collocation_list() used as a work around.\n",
    "print('\\n'.join(text5.collocation_list()))"
   ]
  },
  {
   "cell_type": "markdown",
   "metadata": {},
   "source": [
    "## Q8) Consider the following Python expression: len(set(text4)). State the purpose of this expression. Describe the two steps involved in performing this computation."
   ]
  },
  {
   "cell_type": "markdown",
   "metadata": {},
   "source": [
    "Set function gives unqiue values only. Thus, we are using the above expression to find out the length of the unique words in text4.<ol><li>Step1: words=set(text4) -> gives you the unique words in text4</li><li>Step2: len(words) -> will give you the length of words set</li>"
   ]
  },
  {
   "cell_type": "code",
   "execution_count": 18,
   "metadata": {},
   "outputs": [
    {
     "name": "stdout",
     "output_type": "stream",
     "text": [
      "enlarge\n",
      "ruler\n",
      "patiently\n",
      "discern\n",
      "living\n"
     ]
    }
   ],
   "source": [
    "## Code\n",
    "words= set(text4)\n",
    "for i in list(words)[:5]:\n",
    "    print(i)"
   ]
  },
  {
   "cell_type": "code",
   "execution_count": 22,
   "metadata": {},
   "outputs": [
    {
     "data": {
      "text/plain": [
       "9913"
      ]
     },
     "execution_count": 22,
     "metadata": {},
     "output_type": "execute_result"
    }
   ],
   "source": [
    "len(set(text4))"
   ]
  },
  {
   "cell_type": "markdown",
   "metadata": {},
   "source": [
    "## Q9) Review 2 on lists and strings.<br><br> a.Define a string and assign it to a variable, e.g., my_string = 'My String' (but put something more interesting in the string). Print the contents of this variable in two ways, first by simply typing the variable name and pressing enter, then by using the print statement.<br><br>b.Try adding the string to itself using my_string + my_string, or multiplying it by a number, e.g., my_string * 3. Notice that the strings are joined together without any spaces. How could you fix this?"
   ]
  },
  {
   "cell_type": "code",
   "execution_count": 36,
   "metadata": {},
   "outputs": [
    {
     "name": "stdout",
     "output_type": "stream",
     "text": [
      "Way 1:\n"
     ]
    },
    {
     "data": {
      "text/plain": [
       "'Zero responsibilities equals optimum Rest'"
      ]
     },
     "execution_count": 36,
     "metadata": {},
     "output_type": "execute_result"
    }
   ],
   "source": [
    "## A\n",
    "motto = \"Zero responsibilities equals optimum Rest\"\n",
    "print(\"Way 1:\")\n",
    "motto"
   ]
  },
  {
   "cell_type": "code",
   "execution_count": 37,
   "metadata": {},
   "outputs": [
    {
     "name": "stdout",
     "output_type": "stream",
     "text": [
      "Way2:\n",
      "Zero responsibilities equals optimum Rest\n"
     ]
    }
   ],
   "source": [
    "print(\"Way2:\")\n",
    "print(motto)"
   ]
  },
  {
   "cell_type": "code",
   "execution_count": 38,
   "metadata": {},
   "outputs": [
    {
     "data": {
      "text/plain": [
       "'Zero responsibilities equals optimum RestZero responsibilities equals optimum Rest'"
      ]
     },
     "execution_count": 38,
     "metadata": {},
     "output_type": "execute_result"
    }
   ],
   "source": [
    "## B \n",
    "concat_motto= motto+motto\n",
    "concat_motto "
   ]
  },
  {
   "cell_type": "code",
   "execution_count": 39,
   "metadata": {},
   "outputs": [
    {
     "data": {
      "text/plain": [
       "'Zero responsibilities equals optimum RestZero responsibilities equals optimum RestZero responsibilities equals optimum Rest'"
      ]
     },
     "execution_count": 39,
     "metadata": {},
     "output_type": "execute_result"
    }
   ],
   "source": [
    "mul_motto = motto*3\n",
    "mul_motto"
   ]
  },
  {
   "cell_type": "code",
   "execution_count": 40,
   "metadata": {},
   "outputs": [
    {
     "data": {
      "text/plain": [
       "'Zero responsibilities equals optimum Rest Zero responsibilities equals optimum Rest Zero responsibilities equals optimum Rest'"
      ]
     },
     "execution_count": 40,
     "metadata": {},
     "output_type": "execute_result"
    }
   ],
   "source": [
    "## You can fix this in two ways - i) manually or ii) using join\n",
    "##### i) \n",
    "motto+' '+motto+\" \"+motto"
   ]
  },
  {
   "cell_type": "code",
   "execution_count": 41,
   "metadata": {},
   "outputs": [
    {
     "data": {
      "text/plain": [
       "'Zero responsibilities equals optimum Rest Zero responsibilities equals optimum Rest Zero responsibilities equals optimum Rest'"
      ]
     },
     "execution_count": 41,
     "metadata": {},
     "output_type": "execute_result"
    }
   ],
   "source": [
    "##### ii) join \n",
    "(\" \").join([motto,motto,motto]) "
   ]
  },
  {
   "cell_type": "markdown",
   "metadata": {},
   "source": [
    "## Q10) Define a variable my_sent to be a list of words, using the syntax my_sent = [\"My\", \"sent\"] (but with your own words, or a favorite saying).<br>a. Use ' '.join(my_sent) to convert this into a string.<br><br>b. Use split() to split the string back into the list form you had to start with.\n"
   ]
  },
  {
   "cell_type": "code",
   "execution_count": 45,
   "metadata": {},
   "outputs": [
    {
     "data": {
      "text/plain": [
       "['Zero', 'responsibilities', 'equals', 'optimum', 'Rest']"
      ]
     },
     "execution_count": 45,
     "metadata": {},
     "output_type": "execute_result"
    }
   ],
   "source": [
    "isay = ['Zero', 'responsibilities', 'equals', 'optimum', 'Rest']\n",
    "isay"
   ]
  },
  {
   "cell_type": "code",
   "execution_count": 48,
   "metadata": {},
   "outputs": [
    {
     "data": {
      "text/plain": [
       "'Zero responsibilities equals optimum Rest'"
      ]
     },
     "execution_count": 48,
     "metadata": {},
     "output_type": "execute_result"
    }
   ],
   "source": [
    "## a)\n",
    "usay = (\" \").join(isay)\n",
    "usay"
   ]
  },
  {
   "cell_type": "code",
   "execution_count": 50,
   "metadata": {},
   "outputs": [
    {
     "data": {
      "text/plain": [
       "['Zero', 'responsibilities', 'equals', 'optimum', 'Rest']"
      ]
     },
     "execution_count": 50,
     "metadata": {},
     "output_type": "execute_result"
    }
   ],
   "source": [
    "## b) \n",
    "wesay = usay.split()\n",
    "wesay"
   ]
  },
  {
   "cell_type": "markdown",
   "metadata": {},
   "source": [
    "## Q11)  Define several variables containing lists of words, e.g., phrase1, phrase2, and so on. Join them together in various combinations (using the plus operator) to form whole sentences. What is the relationship between len(phrase1 + phrase2) and len(phrase1) + len(phrase2)?"
   ]
  },
  {
   "cell_type": "code",
   "execution_count": 53,
   "metadata": {},
   "outputs": [
    {
     "name": "stdout",
     "output_type": "stream",
     "text": [
      "15\n",
      "15\n"
     ]
    }
   ],
   "source": [
    "phrase1 = 'in meme'\n",
    "phrase2 = 'we trust'\n",
    "## a) len(phrase1+phrase2) will concatenate the phrases and then give the length of the entire sentence\n",
    "print(len(phrase1 + phrase2))     \n",
    "\n",
    "## b) the output though same, it will calculate the length of the phrases individually and then add them \n",
    "## together to give the same output as above\n",
    "print(len(phrase1) + len(phrase2))"
   ]
  },
  {
   "cell_type": "markdown",
   "metadata": {},
   "source": [
    "## Q12) Consider the following two expressions, which have the same value. Which one will typically be more relevant in NLP? Why? <br> <br>a.\"Monty Python\"[6:12]<br><br>b.[\"Monty\", \"Python\"][1]"
   ]
  },
  {
   "cell_type": "code",
   "execution_count": 54,
   "metadata": {},
   "outputs": [
    {
     "data": {
      "text/plain": [
       "'Python'"
      ]
     },
     "execution_count": 54,
     "metadata": {},
     "output_type": "execute_result"
    }
   ],
   "source": [
    "## Lets run the code and see the output:\n",
    "\"Monty Python\"[6:12]"
   ]
  },
  {
   "cell_type": "code",
   "execution_count": 55,
   "metadata": {},
   "outputs": [
    {
     "data": {
      "text/plain": [
       "'Python'"
      ]
     },
     "execution_count": 55,
     "metadata": {},
     "output_type": "execute_result"
    }
   ],
   "source": [
    "[\"Monty\", \"Python\"][1]"
   ]
  },
  {
   "cell_type": "code",
   "execution_count": 69,
   "metadata": {},
   "outputs": [
    {
     "name": "stdout",
     "output_type": "stream",
     "text": [
      "Though the output is same for both, the first one gives us the character slicing output and the second one extracts the list item at index 1.\n",
      "The second one is more relevant to NLP as using lists and slicing to access words is commonly used in NLP. \n"
     ]
    }
   ],
   "source": [
    "print(\"Though the output is same for both, the first one gives us the character slicing output and the second one extracts the list item at index 1.\\nThe second one is more relevant to NLP as using lists and slicing to access words is commonly used in NLP. \")"
   ]
  },
  {
   "cell_type": "markdown",
   "metadata": {},
   "source": [
    "## Q13) We have seen how to represent a sentence as a list of words, where each word is a sequence of characters. What does sent1[2][2] do? Why? Experiment with other index values."
   ]
  },
  {
   "cell_type": "markdown",
   "metadata": {},
   "source": [
    "## Q14) The first sentence of text3 is provided to you in the variable sent3. The index of the in sent3 is 1, because sent3[1] gives us 'the'. What are the indexes of the two other occurrences of this word in sent3?"
   ]
  },
  {
   "cell_type": "markdown",
   "metadata": {},
   "source": [
    "## Q15) Review the discussion of conditionals in 4. Find all words in the Chat Corpus (text5) starting with the letter b. Show them in alphabetical order."
   ]
  },
  {
   "cell_type": "markdown",
   "metadata": {},
   "source": [
    "## Q16) Type the expression list(range(10)) at the interpreter prompt. Now try list(range(10, 20)), list(range(10, 20, 2)), and list(range(20, 10, -2)). We will see a variety of uses for this built-in function in later chapters."
   ]
  },
  {
   "cell_type": "markdown",
   "metadata": {},
   "source": [
    "## Q17) Use text9.index() to find the index of the word sunset. You'll need to insert this word as an argument between the parentheses. By a process of trial and error, find the slice for the complete sentence that contains this word."
   ]
  },
  {
   "cell_type": "markdown",
   "metadata": {},
   "source": [
    "## Q18) Using list addition, and the set and sorted operations, compute the vocabulary of the sentences sent1 ... sent8."
   ]
  },
  {
   "cell_type": "markdown",
   "metadata": {},
   "source": [
    "## Q19) What is the difference between the following two lines? Which one will give a larger value? Will this be the case for other texts? <img src = \"imgs/Q25.JPG\">"
   ]
  },
  {
   "cell_type": "code",
   "execution_count": 4,
   "metadata": {},
   "outputs": [
    {
     "name": "stdout",
     "output_type": "stream",
     "text": [
      "17231\n",
      "19317\n"
     ]
    }
   ],
   "source": [
    "# sorted set of all words in text1\n",
    "print(len(sorted(set(word.lower() for word in text1))))\n",
    "# sorted set of all unique words in text1 - returns higher value\n",
    "print(len(sorted(word.lower() for word in set(text1))))"
   ]
  },
  {
   "cell_type": "markdown",
   "metadata": {},
   "source": [
    "Coverting all the characters to lowercase and then converting the text to set will remove the repeated characters which will give a smaller value. \n",
    "\n",
    "Converting the text to a set firt will keep both 'A' and 'a' in the text although they are same letter in different cases. - this will give the larger value \n",
    "\n",
    "\n",
    "This will be the case when there are both smaller and upper cases in the text. "
   ]
  },
  {
   "cell_type": "markdown",
   "metadata": {},
   "source": [
    "## Q20) What is the difference between the following two tests: w.isupper() and not w.islower()?"
   ]
  },
  {
   "cell_type": "markdown",
   "metadata": {},
   "source": [
    ".isupper checks if string is upper case, not .islower checks is string is anything other than lower case"
   ]
  },
  {
   "cell_type": "code",
   "execution_count": 5,
   "metadata": {},
   "outputs": [],
   "source": [
    "text = 'nlp'"
   ]
  },
  {
   "cell_type": "code",
   "execution_count": 6,
   "metadata": {},
   "outputs": [
    {
     "data": {
      "text/plain": [
       "False"
      ]
     },
     "execution_count": 6,
     "metadata": {},
     "output_type": "execute_result"
    }
   ],
   "source": [
    "text.isupper()"
   ]
  },
  {
   "cell_type": "code",
   "execution_count": 7,
   "metadata": {},
   "outputs": [
    {
     "data": {
      "text/plain": [
       "False"
      ]
     },
     "execution_count": 7,
     "metadata": {},
     "output_type": "execute_result"
    }
   ],
   "source": [
    "not(text.islower())"
   ]
  },
  {
   "cell_type": "markdown",
   "metadata": {},
   "source": [
    "## Q21) Write the slice expression that extracts the last two words of text2.\n",
    "\n"
   ]
  },
  {
   "cell_type": "code",
   "execution_count": 8,
   "metadata": {},
   "outputs": [
    {
     "name": "stdout",
     "output_type": "stream",
     "text": [
      "<Text: Sense and Sensibility by Jane Austen 1811>\n"
     ]
    }
   ],
   "source": [
    "print(text2)"
   ]
  },
  {
   "cell_type": "code",
   "execution_count": 9,
   "metadata": {},
   "outputs": [
    {
     "data": {
      "text/plain": [
       "141576"
      ]
     },
     "execution_count": 9,
     "metadata": {},
     "output_type": "execute_result"
    }
   ],
   "source": [
    "len(text2)"
   ]
  },
  {
   "cell_type": "code",
   "execution_count": 10,
   "metadata": {},
   "outputs": [
    {
     "name": "stdout",
     "output_type": "stream",
     "text": [
      "['THE', 'END']\n"
     ]
    }
   ],
   "source": [
    "print(text2[len(text2)-2:])"
   ]
  },
  {
   "cell_type": "markdown",
   "metadata": {},
   "source": [
    "## Q22) Find all the four-letter words in the Chat Corpus (text5). With the help of a frequency distribution (FreqDist), show these words in decreasing order of frequency."
   ]
  },
  {
   "cell_type": "code",
   "execution_count": 19,
   "metadata": {},
   "outputs": [
    {
     "name": "stdout",
     "output_type": "stream",
     "text": [
      "<FreqDist with 1038 samples and 9371 outcomes>\n"
     ]
    },
    {
     "data": {
      "image/png": "[encoded data removed]",
      "text/plain": [
       "<Figure size 432x288 with 1 Axes>"
      ]
     },
     "metadata": {
      "needs_background": "light"
     },
     "output_type": "display_data"
    },
    {
     "data": {
      "text/plain": [
       "<matplotlib.axes._subplots.AxesSubplot at 0x1a2423df60>"
      ]
     },
     "execution_count": 19,
     "metadata": {},
     "output_type": "execute_result"
    }
   ],
   "source": [
    "freqDist = FreqDist(text5)\n",
    "\n",
    "#filtering four letter words\n",
    "FourLetterWords = sorted(set([word for word in text5 if word.isalpha() and len(word) == 4]))\n",
    "\n",
    "#print(text5FourLetterWords)\n",
    "#print(freqDistText5)\n",
    "\n",
    "\n",
    "for w in [word for word in freqDist]:\n",
    "    if w not in FourLetterWords:\n",
    "        freqDist.pop(w)\n",
    "print(freqDist)\n",
    "freqDist.plot(20)"
   ]
  },
  {
   "cell_type": "markdown",
   "metadata": {},
   "source": [
    "## Q23) Review the discussion of looping with conditions in 4. Use a combination of for and if statements to loop over the words of the movie script for Monty Python and the Holy Grail (text6) and print all the uppercase words, one per line."
   ]
  },
  {
   "cell_type": "code",
   "execution_count": 13,
   "metadata": {},
   "outputs": [
    {
     "name": "stdout",
     "output_type": "stream",
     "text": [
      "SCENE\n",
      "KING\n",
      "ARTHUR\n",
      "SOLDIER\n",
      "ARTHUR\n",
      "I\n",
      "SOLDIER\n",
      "ARTHUR\n",
      "I\n",
      "I\n",
      "SOLDIER\n",
      "ARTHUR\n",
      "SOLDIER\n",
      "ARTHUR\n",
      "SOLDIER\n",
      "ARTHUR\n",
      "SOLDIER\n",
      "ARTHUR\n",
      "SOLDIER\n",
      "ARTHUR\n",
      "SOLDIER\n",
      "ARTHUR\n",
      "SOLDIER\n",
      "ARTHUR\n",
      "SOLDIER\n",
      "A\n",
      "ARTHUR\n",
      "SOLDIER\n",
      "A\n",
      "ARTHUR\n",
      "SOLDIER\n",
      "ARTHUR\n",
      "SOLDIER\n",
      "I\n",
      "ARTHUR\n",
      "I\n",
      "SOLDIER\n",
      "SOLDIER\n",
      "SOLDIER\n",
      "I\n",
      "ARTHUR\n",
      "SOLDIER\n",
      "SOLDIER\n",
      "SOLDIER\n",
      "SOLDIER\n",
      "SOLDIER\n",
      "SOLDIER\n",
      "SOLDIER\n",
      "SOLDIER\n",
      "SCENE\n",
      "CART\n",
      "MASTER\n",
      "CUSTOMER\n",
      "CART\n",
      "MASTER\n",
      "DEAD\n",
      "PERSON\n",
      "I\n",
      "CART\n",
      "MASTER\n",
      "CUSTOMER\n",
      "DEAD\n",
      "PERSON\n",
      "I\n",
      "CART\n",
      "MASTER\n",
      "CUSTOMER\n",
      "DEAD\n",
      "PERSON\n",
      "I\n",
      "CART\n",
      "MASTER\n",
      "CUSTOMER\n",
      "DEAD\n",
      "PERSON\n",
      "I\n",
      "CUSTOMER\n",
      "CART\n",
      "MASTER\n",
      "I\n",
      "DEAD\n",
      "PERSON\n",
      "I\n",
      "CUSTOMER\n",
      "CART\n",
      "MASTER\n",
      "I\n",
      "DEAD\n",
      "PERSON\n",
      "I\n",
      "CUSTOMER\n",
      "CART\n",
      "MASTER\n",
      "I\n",
      "CUSTOMER\n",
      "CART\n",
      "MASTER\n",
      "I\n",
      "CUSTOMER\n",
      "CART\n",
      "MASTER\n",
      "DEAD\n",
      "PERSON\n",
      "I\n",
      "I\n",
      "CUSTOMER\n",
      "DEAD\n",
      "PERSON\n",
      "I\n",
      "I\n",
      "CUSTOMER\n",
      "CART\n",
      "MASTER\n",
      "CUSTOMER\n",
      "CART\n",
      "MASTER\n",
      "I\n",
      "CUSTOMER\n",
      "CART\n",
      "MASTER\n",
      "SCENE\n",
      "ARTHUR\n",
      "DENNIS\n",
      "ARTHUR\n",
      "DENNIS\n",
      "I\n",
      "ARTHUR\n",
      "I\n",
      "DENNIS\n",
      "I\n",
      "I\n",
      "ARTHUR\n",
      "I\n",
      "DENNIS\n",
      "ARTHUR\n",
      "I\n",
      "DENNIS\n",
      "ARTHUR\n",
      "I\n",
      "DENNIS\n",
      "I\n",
      "ARTHUR\n",
      "I\n",
      "DENNIS\n",
      "WOMAN\n",
      "ARTHUR\n",
      "I\n",
      "WOMAN\n",
      "ARTHUR\n",
      "WOMAN\n",
      "ARTHUR\n",
      "I\n",
      "WOMAN\n",
      "I\n",
      "I\n",
      "DENNIS\n",
      "A\n",
      "WOMAN\n",
      "DENNIS\n",
      "ARTHUR\n",
      "I\n",
      "WOMAN\n",
      "ARTHUR\n",
      "WOMAN\n",
      "ARTHUR\n",
      "DENNIS\n",
      "I\n",
      "ARTHUR\n",
      "DENNIS\n",
      "ARTHUR\n",
      "I\n",
      "DENNIS\n",
      "ARTHUR\n",
      "DENNIS\n",
      "ARTHUR\n",
      "I\n",
      "WOMAN\n",
      "ARTHUR\n",
      "I\n",
      "WOMAN\n",
      "I\n",
      "ARTHUR\n",
      "WOMAN\n",
      "ARTHUR\n",
      "I\n",
      "I\n",
      "DENNIS\n",
      "ARTHUR\n",
      "DENNIS\n",
      "ARTHUR\n",
      "DENNIS\n",
      "I\n",
      "I\n",
      "I\n",
      "ARTHUR\n",
      "DENNIS\n",
      "ARTHUR\n",
      "DENNIS\n",
      "I\n",
      "ARTHUR\n",
      "DENNIS\n",
      "I\n",
      "SCENE\n",
      "BLACK\n",
      "KNIGHT\n",
      "BLACK\n",
      "KNIGHT\n",
      "GREEN\n",
      "KNIGHT\n",
      "BLACK\n",
      "KNIGHT\n",
      "GREEN\n",
      "KNIGHT\n",
      "BLACK\n",
      "KNIGHT\n",
      "BLACK\n",
      "KNIGHT\n",
      "GREEN\n",
      "KNIGHT\n",
      "GREEN\n",
      "KNIGHT\n",
      "BLACK\n",
      "KNIGHT\n",
      "GREEN\n",
      "KNIGHT\n",
      "BLACK\n",
      "KNIGHT\n",
      "ARTHUR\n",
      "I\n",
      "I\n",
      "BLACK\n",
      "KNIGHT\n",
      "ARTHUR\n",
      "BLACK\n",
      "KNIGHT\n",
      "ARTHUR\n",
      "I\n",
      "I\n",
      "BLACK\n",
      "KNIGHT\n",
      "ARTHUR\n",
      "I\n",
      "BLACK\n",
      "KNIGHT\n",
      "I\n",
      "ARTHUR\n",
      "ARTHUR\n",
      "BLACK\n",
      "KNIGHT\n",
      "ARTHUR\n",
      "BLACK\n",
      "KNIGHT\n",
      "ARTHUR\n",
      "BLACK\n",
      "KNIGHT\n",
      "ARTHUR\n",
      "A\n",
      "BLACK\n",
      "KNIGHT\n",
      "ARTHUR\n",
      "BLACK\n",
      "KNIGHT\n",
      "I\n",
      "ARTHUR\n",
      "BLACK\n",
      "KNIGHT\n",
      "ARTHUR\n",
      "BLACK\n",
      "KNIGHT\n",
      "ARTHUR\n",
      "BLACK\n",
      "KNIGHT\n",
      "ARTHUR\n",
      "BLACK\n",
      "KNIGHT\n",
      "ARTHUR\n",
      "BLACK\n",
      "KNIGHT\n",
      "ARTHUR\n",
      "BLACK\n",
      "KNIGHT\n",
      "I\n",
      "ARTHUR\n",
      "BLACK\n",
      "KNIGHT\n",
      "ARTHUR\n",
      "BLACK\n",
      "KNIGHT\n",
      "ARTHUR\n",
      "I\n",
      "ARTHUR\n",
      "BLACK\n",
      "KNIGHT\n",
      "BLACK\n",
      "KNIGHT\n",
      "I\n",
      "ARTHUR\n",
      "BLACK\n",
      "KNIGHT\n",
      "ARTHUR\n",
      "BLACK\n",
      "KNIGHT\n",
      "I\n",
      "ARTHUR\n",
      "BLACK\n",
      "KNIGHT\n",
      "ARTHUR\n",
      "BLACK\n",
      "KNIGHT\n",
      "BLACK\n",
      "KNIGHT\n",
      "ARTHUR\n",
      "BLACK\n",
      "KNIGHT\n",
      "I\n",
      "I\n",
      "SCENE\n",
      "MONKS\n",
      "CROWD\n",
      "A\n",
      "A\n",
      "A\n",
      "A\n",
      "MONKS\n",
      "CROWD\n",
      "A\n",
      "A\n",
      "A\n",
      "A\n",
      "A\n",
      "A\n",
      "A\n",
      "A\n",
      "A\n",
      "A\n",
      "A\n",
      "A\n",
      "A\n",
      "VILLAGER\n",
      "CROWD\n",
      "BEDEVERE\n",
      "VILLAGER\n",
      "CROWD\n",
      "BEDEVERE\n",
      "WITCH\n",
      "I\n",
      "I\n",
      "BEDEVERE\n",
      "WITCH\n",
      "CROWD\n",
      "WITCH\n",
      "BEDEVERE\n",
      "VILLAGER\n",
      "BEDEVERE\n",
      "VILLAGER\n",
      "VILLAGER\n",
      "CROWD\n",
      "BEDEVERE\n",
      "VILLAGER\n",
      "VILLAGER\n",
      "VILLAGER\n",
      "VILLAGER\n",
      "VILLAGERS\n",
      "VILLAGER\n",
      "VILLAGER\n",
      "VILLAGER\n",
      "VILLAGER\n",
      "A\n",
      "VILLAGERS\n",
      "A\n",
      "VILLAGER\n",
      "A\n",
      "VILLAGER\n",
      "RANDOM\n",
      "BEDEVERE\n",
      "VILLAGER\n",
      "BEDEVERE\n",
      "A\n",
      "VILLAGER\n",
      "I\n",
      "VILLAGER\n",
      "VILLAGER\n",
      "CROWD\n",
      "BEDEVERE\n",
      "VILLAGER\n",
      "VILLAGER\n",
      "VILLAGER\n",
      "CROWD\n",
      "BEDEVERE\n",
      "VILLAGER\n",
      "VILLAGER\n",
      "CROWD\n",
      "BEDEVERE\n",
      "VILLAGER\n",
      "VILLAGER\n",
      "VILLAGER\n",
      "BEDEVERE\n",
      "VILLAGER\n",
      "B\n",
      "BEDEVERE\n",
      "CROWD\n",
      "BEDEVERE\n",
      "VILLAGER\n",
      "BEDEVERE\n",
      "VILLAGER\n",
      "RANDOM\n",
      "BEDEVERE\n",
      "VILLAGER\n",
      "VILLAGER\n",
      "VILLAGER\n",
      "CROWD\n",
      "BEDEVERE\n",
      "VILLAGER\n",
      "VILLAGER\n",
      "VILLAGER\n",
      "VILLAGER\n",
      "VILLAGER\n",
      "VILLAGER\n",
      "VILLAGER\n",
      "VILLAGER\n",
      "VILLAGER\n",
      "ARTHUR\n",
      "A\n",
      "CROWD\n",
      "BEDEVERE\n",
      "VILLAGER\n",
      "BEDEVERE\n",
      "VILLAGER\n",
      "A\n",
      "VILLAGER\n",
      "A\n",
      "CROWD\n",
      "A\n",
      "A\n",
      "VILLAGER\n",
      "BEDEVERE\n",
      "CROWD\n",
      "BEDEVERE\n",
      "CROWD\n",
      "A\n",
      "A\n",
      "A\n",
      "WITCH\n",
      "VILLAGER\n",
      "CROWD\n",
      "BEDEVERE\n",
      "ARTHUR\n",
      "I\n",
      "BEDEVERE\n",
      "ARTHUR\n",
      "BEDEVERE\n",
      "I\n",
      "ARTHUR\n",
      "BEDEVERE\n",
      "ARTHUR\n",
      "I\n",
      "NARRATOR\n",
      "SCENE\n",
      "SIR\n",
      "BEDEVERE\n",
      "ARTHUR\n",
      "BEDEVERE\n",
      "SIR\n",
      "LAUNCELOT\n",
      "ARTHUR\n",
      "SIR\n",
      "GALAHAD\n",
      "LAUNCELOT\n",
      "PATSY\n",
      "ARTHUR\n",
      "I\n",
      "KNIGHTS\n",
      "PRISONER\n",
      "KNIGHTS\n",
      "MAN\n",
      "I\n",
      "ARTHUR\n",
      "KNIGHTS\n",
      "SCENE\n",
      "GOD\n",
      "I\n",
      "ARTHUR\n",
      "GOD\n",
      "I\n",
      "I\n",
      "ARTHUR\n",
      "I\n",
      "O\n",
      "GOD\n",
      "ARTHUR\n",
      "GOD\n",
      "ARTHUR\n",
      "O\n",
      "GOD\n",
      "LAUNCELOT\n",
      "A\n",
      "A\n",
      "GALAHAD\n",
      "SCENE\n",
      "ARTHUR\n",
      "FRENCH\n",
      "GUARD\n",
      "ARTHUR\n",
      "FRENCH\n",
      "GUARD\n",
      "ARTHUR\n",
      "FRENCH\n",
      "GUARD\n",
      "I\n",
      "I\n",
      "ARTHUR\n",
      "GALAHAD\n",
      "ARTHUR\n",
      "FRENCH\n",
      "GUARD\n",
      "I\n",
      "ARTHUR\n",
      "FRENCH\n",
      "GUARD\n",
      "ARTHUR\n",
      "FRENCH\n",
      "GUARD\n",
      "I\n",
      "I\n",
      "GALAHAD\n",
      "FRENCH\n",
      "GUARD\n",
      "ARTHUR\n",
      "FRENCH\n",
      "GUARD\n",
      "I\n",
      "GALAHAD\n",
      "ARTHUR\n",
      "FRENCH\n",
      "GUARD\n",
      "I\n",
      "I\n",
      "GALAHAD\n",
      "FRENCH\n",
      "GUARD\n",
      "I\n",
      "ARTHUR\n",
      "I\n",
      "FRENCH\n",
      "GUARD\n",
      "OTHER\n",
      "FRENCH\n",
      "GUARD\n",
      "FRENCH\n",
      "GUARD\n",
      "ARTHUR\n",
      "I\n",
      "KNIGHTS\n",
      "ARTHUR\n",
      "KNIGHTS\n",
      "FRENCH\n",
      "GUARD\n",
      "FRENCH\n",
      "GUARD\n",
      "ARTHUR\n",
      "KNIGHTS\n",
      "FRENCH\n",
      "GUARD\n",
      "FRENCH\n",
      "GUARDS\n",
      "LAUNCELOT\n",
      "I\n",
      "ARTHUR\n",
      "BEDEVERE\n",
      "I\n",
      "FRENCH\n",
      "GUARDS\n",
      "C\n",
      "A\n",
      "ARTHUR\n",
      "BEDEVERE\n",
      "I\n",
      "ARTHUR\n",
      "BEDEVERE\n",
      "U\n",
      "I\n",
      "ARTHUR\n",
      "BEDEVERE\n",
      "ARTHUR\n",
      "KNIGHTS\n",
      "CRASH\n",
      "FRENCH\n",
      "GUARDS\n",
      "SCENE\n",
      "VOICE\n",
      "DIRECTOR\n",
      "HISTORIAN\n",
      "KNIGHT\n",
      "KNIGHT\n",
      "HISTORIAN\n",
      "HISTORIAN\n",
      "S\n",
      "WIFE\n",
      "SCENE\n",
      "NARRATOR\n",
      "MINSTREL\n",
      "O\n",
      "SIR\n",
      "ROBIN\n",
      "DENNIS\n",
      "WOMAN\n",
      "ALL\n",
      "HEADS\n",
      "MINSTREL\n",
      "ROBIN\n",
      "I\n",
      "ALL\n",
      "HEADS\n",
      "MINSTREL\n",
      "ROBIN\n",
      "I\n",
      "ALL\n",
      "HEADS\n",
      "I\n",
      "ROBIN\n",
      "W\n",
      "I\n",
      "I\n",
      "ALL\n",
      "HEADS\n",
      "ROBIN\n",
      "I\n",
      "LEFT\n",
      "HEAD\n",
      "I\n",
      "MIDDLE\n",
      "HEAD\n",
      "I\n",
      "RIGHT\n",
      "HEAD\n",
      "I\n",
      "MIDDLE\n",
      "HEAD\n",
      "I\n",
      "LEFT\n",
      "HEAD\n",
      "I\n",
      "RIGHT\n",
      "HEAD\n",
      "LEFT\n",
      "HEAD\n",
      "ROBIN\n",
      "I\n",
      "LEFT\n",
      "HEAD\n",
      "I\n",
      "RIGHT\n",
      "HEAD\n",
      "MIDDLE\n",
      "HEAD\n",
      "LEFT\n",
      "HEAD\n",
      "RIGHT\n",
      "HEAD\n",
      "MIDDLE\n",
      "HEAD\n",
      "LEFT\n",
      "HEAD\n",
      "MIDDLE\n",
      "HEAD\n",
      "LEFT\n",
      "HEAD\n",
      "I\n",
      "MIDDLE\n",
      "HEAD\n",
      "RIGHT\n",
      "HEAD\n",
      "LEFT\n",
      "HEAD\n",
      "MIDDLE\n",
      "HEAD\n",
      "RIGHT\n",
      "HEAD\n",
      "LEFT\n",
      "HEAD\n",
      "ALL\n",
      "HEADS\n",
      "MIDDLE\n",
      "HEAD\n",
      "RIGHT\n",
      "HEAD\n",
      "MINSTREL\n",
      "ROBIN\n",
      "MINSTREL\n",
      "ROBIN\n",
      "I\n",
      "MINSTREL\n",
      "ROBIN\n",
      "MINSTREL\n",
      "ROBIN\n",
      "I\n",
      "MINSTREL\n",
      "ROBIN\n",
      "I\n",
      "MINSTREL\n",
      "ROBIN\n",
      "MINSTREL\n",
      "ROBIN\n",
      "I\n",
      "CARTOON\n",
      "MONKS\n",
      "CARTOON\n",
      "CHARACTER\n",
      "CARTOON\n",
      "MONKS\n",
      "CARTOON\n",
      "CHARACTERS\n",
      "CARTOON\n",
      "MONKS\n",
      "CARTOON\n",
      "CHARACTER\n",
      "VOICE\n",
      "CARTOON\n",
      "CHARACTER\n",
      "SCENE\n",
      "NARRATOR\n",
      "GALAHAD\n",
      "GIRLS\n",
      "ZOOT\n",
      "GALAHAD\n",
      "ZOOT\n",
      "GALAHAD\n",
      "ZOOT\n",
      "GALAHAD\n",
      "ZOOT\n",
      "MIDGET\n",
      "CRAPPER\n",
      "O\n",
      "ZOOT\n",
      "MIDGET\n",
      "CRAPPER\n",
      "ZOOT\n",
      "GALAHAD\n",
      "I\n",
      "I\n",
      "ZOOT\n",
      "GALAHAD\n",
      "ZOOT\n",
      "GALAHAD\n",
      "ZOOT\n",
      "GALAHAD\n",
      "I\n",
      "ZOOT\n",
      "GALAHAD\n",
      "I\n",
      "I\n",
      "ZOOT\n",
      "I\n",
      "GALAHAD\n",
      "ZOOT\n",
      "PIGLET\n",
      "GALAHAD\n",
      "ZOOT\n",
      "GALAHAD\n",
      "B\n",
      "ZOOT\n",
      "WINSTON\n",
      "GALAHAD\n",
      "PIGLET\n",
      "GALAHAD\n",
      "PIGLET\n",
      "GALAHAD\n",
      "I\n",
      "PIGLET\n",
      "GALAHAD\n",
      "I\n",
      "PIGLET\n",
      "GALAHAD\n",
      "I\n",
      "I\n",
      "I\n",
      "GIRLS\n",
      "GALAHAD\n",
      "GIRLS\n",
      "GALAHAD\n",
      "DINGO\n",
      "I\n",
      "GALAHAD\n",
      "I\n",
      "DINGO\n",
      "GALAHAD\n",
      "I\n",
      "I\n",
      "DINGO\n",
      "GALAHAD\n",
      "DINGO\n",
      "I\n",
      "GALAHAD\n",
      "DINGO\n",
      "I\n",
      "LEFT\n",
      "HEAD\n",
      "DENNIS\n",
      "OLD\n",
      "MAN\n",
      "TIM\n",
      "THE\n",
      "ENCHANTER\n",
      "ARMY\n",
      "OF\n",
      "KNIGHTS\n",
      "DINGO\n",
      "I\n",
      "GOD\n",
      "DINGO\n",
      "GIRLS\n",
      "A\n",
      "A\n",
      "DINGO\n",
      "AMAZING\n",
      "STUNNER\n",
      "LOVELY\n",
      "DINGO\n",
      "GIRLS\n",
      "A\n",
      "A\n",
      "DINGO\n",
      "GIRLS\n",
      "GALAHAD\n",
      "I\n",
      "LAUNCELOT\n",
      "GALAHAD\n",
      "LAUNCELOT\n",
      "GALAHAD\n",
      "LAUNCELOT\n",
      "GALAHAD\n",
      "LAUNCELOT\n",
      "DINGO\n",
      "LAUNCELOT\n",
      "GALAHAD\n",
      "LAUNCELOT\n",
      "GALAHAD\n",
      "I\n",
      "LAUNCELOT\n",
      "GIRLS\n",
      "GALAHAD\n",
      "I\n",
      "DINGO\n",
      "GIRLS\n",
      "LAUNCELOT\n",
      "GALAHAD\n",
      "I\n",
      "I\n",
      "DINGO\n",
      "GIRLS\n",
      "LAUNCELOT\n",
      "GALAHAD\n",
      "I\n",
      "DINGO\n",
      "GIRLS\n",
      "DINGO\n",
      "LAUNCELOT\n",
      "GALAHAD\n",
      "I\n",
      "I\n",
      "LAUNCELOT\n",
      "GALAHAD\n",
      "LAUNCELOT\n",
      "GALAHAD\n",
      "I\n",
      "LAUNCELOT\n",
      "GALAHAD\n",
      "LAUNCELOT\n",
      "GALAHAD\n",
      "I\n",
      "LAUNCELOT\n",
      "I\n",
      "NARRATOR\n",
      "I\n",
      "I\n",
      "CROWD\n",
      "NARRATOR\n",
      "I\n",
      "SCENE\n",
      "OLD\n",
      "MAN\n",
      "ARTHUR\n",
      "OLD\n",
      "MAN\n",
      "ARTHUR\n",
      "OLD\n",
      "MAN\n",
      "ARTHUR\n",
      "OLD\n",
      "MAN\n",
      "ARTHUR\n",
      "OLD\n",
      "MAN\n",
      "ARTHUR\n",
      "OLD\n",
      "MAN\n",
      "ARTHUR\n",
      "OLD\n",
      "MAN\n",
      "SCENE\n",
      "HEAD\n",
      "KNIGHT\n",
      "OF\n",
      "NI\n",
      "KNIGHTS\n",
      "OF\n",
      "NI\n",
      "ARTHUR\n",
      "HEAD\n",
      "KNIGHT\n",
      "RANDOM\n",
      "ARTHUR\n",
      "HEAD\n",
      "KNIGHT\n",
      "BEDEVERE\n",
      "HEAD\n",
      "KNIGHT\n",
      "RANDOM\n",
      "ARTHUR\n",
      "HEAD\n",
      "KNIGHT\n",
      "ARTHUR\n",
      "HEAD\n",
      "KNIGHT\n",
      "KNIGHTS\n",
      "OF\n",
      "NI\n",
      "ARTHUR\n",
      "HEAD\n",
      "KNIGHT\n",
      "ARTHUR\n",
      "HEAD\n",
      "KNIGHT\n",
      "ARTHUR\n",
      "A\n",
      "KNIGHTS\n",
      "OF\n",
      "NI\n",
      "ARTHUR\n",
      "PARTY\n",
      "ARTHUR\n",
      "HEAD\n",
      "KNIGHT\n",
      "ARTHUR\n",
      "O\n",
      "HEAD\n",
      "KNIGHT\n",
      "ARTHUR\n",
      "HEAD\n",
      "KNIGHT\n",
      "ARTHUR\n",
      "HEAD\n",
      "KNIGHT\n",
      "CARTOON\n",
      "CHARACTER\n",
      "SUN\n",
      "CARTOON\n",
      "CHARACTER\n",
      "SUN\n",
      "CARTOON\n",
      "CHARACTER\n",
      "SUN\n",
      "CARTOON\n",
      "CHARACTER\n",
      "SCENE\n",
      "NARRATOR\n",
      "FATHER\n",
      "PRINCE\n",
      "HERBERT\n",
      "FATHER\n",
      "HERBERT\n",
      "FATHER\n",
      "HERBERT\n",
      "B\n",
      "I\n",
      "FATHER\n",
      "I\n",
      "I\n",
      "I\n",
      "I\n",
      "I\n",
      "I\n",
      "HERBERT\n",
      "I\n",
      "I\n",
      "FATHER\n",
      "HERBERT\n",
      "I\n",
      "FATHER\n",
      "I\n",
      "HERBERT\n",
      "B\n",
      "I\n",
      "FATHER\n",
      "HERBERT\n",
      "FATHER\n",
      "HERBERT\n",
      "I\n",
      "FATHER\n",
      "HERBERT\n",
      "I\n",
      "I\n",
      "I\n",
      "FATHER\n",
      "I\n",
      "GUARD\n",
      "GUARD\n",
      "FATHER\n",
      "I\n",
      "GUARD\n",
      "FATHER\n",
      "GUARD\n",
      "GUARD\n",
      "FATHER\n",
      "GUARD\n",
      "FATHER\n",
      "GUARD\n",
      "FATHER\n",
      "GUARD\n",
      "GUARD\n",
      "FATHER\n",
      "GUARD\n",
      "FATHER\n",
      "GUARD\n",
      "FATHER\n",
      "GUARD\n",
      "FATHER\n",
      "GUARD\n",
      "FATHER\n",
      "GUARD\n",
      "I\n",
      "FATHER\n",
      "N\n",
      "GUARD\n",
      "FATHER\n",
      "GUARD\n",
      "FATHER\n",
      "GUARD\n",
      "GUARD\n",
      "FATHER\n",
      "GUARD\n",
      "FATHER\n",
      "GUARD\n",
      "GUARD\n",
      "FATHER\n",
      "GUARD\n",
      "FATHER\n",
      "GUARD\n",
      "FATHER\n",
      "GUARD\n",
      "GUARD\n",
      "GUARD\n",
      "I\n",
      "FATHER\n",
      "GUARD\n",
      "GUARD\n",
      "FATHER\n",
      "GUARD\n",
      "FATHER\n",
      "I\n",
      "GUARD\n",
      "I\n",
      "HERBERT\n",
      "FATHER\n",
      "GUARD\n",
      "FATHER\n",
      "SCENE\n",
      "LAUNCELOT\n",
      "CONCORDE\n",
      "LAUNCELOT\n",
      "CONCORDE\n",
      "LAUNCELOT\n",
      "I\n",
      "I\n",
      "A\n",
      "A\n",
      "CONCORDE\n",
      "I\n",
      "I\n",
      "LAUNCELOT\n",
      "CONCORDE\n",
      "I\n",
      "I\n",
      "I\n",
      "I\n",
      "I\n",
      "LAUNCELOT\n",
      "I\n",
      "CONCORDE\n",
      "I\n",
      "I\n",
      "LAUNCELOT\n",
      "I\n",
      "I\n",
      "CONCORDE\n",
      "LAUNCELOT\n",
      "CONCORDE\n",
      "I\n",
      "LAUNCELOT\n",
      "CONCORDE\n",
      "I\n",
      "I\n",
      "I\n",
      "SCENE\n",
      "PRINCESS\n",
      "LUCKY\n",
      "GIRLS\n",
      "GUEST\n",
      "SENTRY\n",
      "SENTRY\n",
      "SENTRY\n",
      "LAUNCELOT\n",
      "SENTRY\n",
      "LAUNCELOT\n",
      "PRINCESS\n",
      "LUCKY\n",
      "GIRLS\n",
      "LAUNCELOT\n",
      "GUESTS\n",
      "LAUNCELOT\n",
      "GUARD\n",
      "LAUNCELOT\n",
      "O\n",
      "I\n",
      "I\n",
      "HERBERT\n",
      "LAUNCELOT\n",
      "I\n",
      "I\n",
      "HERBERT\n",
      "LAUNCELOT\n",
      "I\n",
      "HERBERT\n",
      "I\n",
      "I\n",
      "LAUNCELOT\n",
      "I\n",
      "HERBERT\n",
      "FATHER\n",
      "HERBERT\n",
      "I\n",
      "FATHER\n",
      "LAUNCELOT\n",
      "I\n",
      "HERBERT\n",
      "LAUNCELOT\n",
      "FATHER\n",
      "LAUNCELOT\n",
      "FATHER\n",
      "LAUNCELOT\n",
      "I\n",
      "I\n",
      "HERBERT\n",
      "I\n",
      "FATHER\n",
      "LAUNCELOT\n",
      "I\n",
      "FATHER\n",
      "I\n",
      "HERBERT\n",
      "FATHER\n",
      "LAUNCELOT\n",
      "I\n",
      "FATHER\n",
      "LAUNCELOT\n",
      "FATHER\n",
      "LAUNCELOT\n",
      "I\n",
      "I\n",
      "I\n",
      "FATHER\n",
      "HERBERT\n",
      "LAUNCELOT\n",
      "I\n",
      "FATHER\n",
      "LAUNCELOT\n",
      "HERBERT\n",
      "I\n",
      "FATHER\n",
      "LAUNCELOT\n",
      "HERBERT\n",
      "I\n",
      "LAUNCELOT\n",
      "I\n",
      "HERBERT\n",
      "LAUNCELOT\n",
      "I\n",
      "I\n",
      "I\n",
      "FATHER\n",
      "HERBERT\n",
      "SCENE\n",
      "GUESTS\n",
      "FATHER\n",
      "GUEST\n",
      "FATHER\n",
      "LAUNCELOT\n",
      "FATHER\n",
      "LAUNCELOT\n",
      "I\n",
      "I\n",
      "I\n",
      "GUEST\n",
      "GUESTS\n",
      "FATHER\n",
      "LAUNCELOT\n",
      "GUEST\n",
      "GUESTS\n",
      "FATHER\n",
      "GUESTS\n",
      "FATHER\n",
      "I\n",
      "I\n",
      "GUEST\n",
      "FATHER\n",
      "GUEST\n",
      "FATHER\n",
      "BRIDE\n",
      "S\n",
      "FATHER\n",
      "GUEST\n",
      "FATHER\n",
      "I\n",
      "I\n",
      "LAUNCELOT\n",
      "GUEST\n",
      "GUESTS\n",
      "CONCORDE\n",
      "HERBERT\n",
      "I\n",
      "FATHER\n",
      "HERBERT\n",
      "I\n",
      "FATHER\n",
      "HERBERT\n",
      "I\n",
      "FATHER\n",
      "GUESTS\n",
      "FATHER\n",
      "GUESTS\n",
      "FATHER\n",
      "GUESTS\n",
      "FATHER\n",
      "GUESTS\n",
      "FATHER\n",
      "GUESTS\n",
      "CONCORDE\n",
      "GUESTS\n",
      "CONCORDE\n",
      "GUESTS\n",
      "LAUNCELOT\n",
      "GUESTS\n",
      "LAUNCELOT\n",
      "I\n",
      "GUESTS\n",
      "CONCORDE\n",
      "LAUNCELOT\n",
      "GUESTS\n",
      "LAUNCELOT\n",
      "GUESTS\n",
      "LAUNCELOT\n",
      "SCENE\n",
      "ARTHUR\n",
      "OLD\n",
      "CRONE\n",
      "ARTHUR\n",
      "CRONE\n",
      "ARTHUR\n",
      "I\n",
      "CRONE\n",
      "ARTHUR\n",
      "CRONE\n",
      "ARTHUR\n",
      "CRONE\n",
      "BEDEVERE\n",
      "ARTHUR\n",
      "BEDEVERE\n",
      "ARTHUR\n",
      "BEDEVERE\n",
      "ARTHUR\n",
      "BEDEVERE\n",
      "ARTHUR\n",
      "BEDEVERE\n",
      "ARTHUR\n",
      "ARTHUR\n",
      "BEDEVERE\n",
      "CRONE\n",
      "BEDEVERE\n",
      "ARTHUR\n",
      "CRONE\n",
      "BEDEVERE\n",
      "ARTHUR\n",
      "BEDEVERE\n",
      "ARTHUR\n",
      "BEDEVERE\n",
      "ROGER\n",
      "THE\n",
      "SHRUBBER\n",
      "ARTHUR\n",
      "ROGER\n",
      "ARTHUR\n",
      "ROGER\n",
      "I\n",
      "I\n",
      "BEDEVERE\n",
      "ARTHUR\n",
      "SCENE\n",
      "ARTHUR\n",
      "O\n",
      "HEAD\n",
      "KNIGHT\n",
      "I\n",
      "ARTHUR\n",
      "HEAD\n",
      "KNIGHT\n",
      "KNIGHTS\n",
      "OF\n",
      "NI\n",
      "HEAD\n",
      "KNIGHT\n",
      "RANDOM\n",
      "HEAD\n",
      "KNIGHT\n",
      "ARTHUR\n",
      "O\n",
      "HEAD\n",
      "KNIGHT\n",
      "ARTHUR\n",
      "RANDOM\n",
      "HEAD\n",
      "KNIGHT\n",
      "KNIGHTS\n",
      "OF\n",
      "NI\n",
      "A\n",
      "A\n",
      "A\n",
      "HEAD\n",
      "KNIGHT\n",
      "ARTHUR\n",
      "HEAD\n",
      "KNIGHT\n",
      "ARTHUR\n",
      "KNIGHTS\n",
      "OF\n",
      "NI\n",
      "HEAD\n",
      "KNIGHT\n",
      "ARTHUR\n",
      "HEAD\n",
      "KNIGHT\n",
      "I\n",
      "ARTHUR\n",
      "KNIGHTS\n",
      "OF\n",
      "NI\n",
      "HEAD\n",
      "KNIGHT\n",
      "ARTHUR\n",
      "KNIGHTS\n",
      "OF\n",
      "NI\n",
      "HEAD\n",
      "KNIGHT\n",
      "KNIGHTS\n",
      "OF\n",
      "NI\n",
      "BEDEVERE\n",
      "MINSTREL\n",
      "ARTHUR\n",
      "ROBIN\n",
      "HEAD\n",
      "KNIGHT\n",
      "ARTHUR\n",
      "MINSTREL\n",
      "ROBIN\n",
      "HEAD\n",
      "KNIGHT\n",
      "KNIGHTS\n",
      "OF\n",
      "NI\n",
      "ROBIN\n",
      "I\n",
      "KNIGHTS\n",
      "OF\n",
      "NI\n",
      "ROBIN\n",
      "ARTHUR\n",
      "KNIGHTS\n",
      "OF\n",
      "NI\n",
      "HEAD\n",
      "KNIGHT\n",
      "ARTHUR\n",
      "KNIGHTS\n",
      "OF\n",
      "NI\n",
      "HEAD\n",
      "KNIGHT\n",
      "ARTHUR\n",
      "HEAD\n",
      "KNIGHT\n",
      "I\n",
      "I\n",
      "I\n",
      "KNIGHTS\n",
      "OF\n",
      "NI\n",
      "NARRATOR\n",
      "KNIGHTS\n",
      "NARRATOR\n",
      "MINSTREL\n",
      "NARRATOR\n",
      "KNIGHTS\n",
      "NARRATOR\n",
      "A\n",
      "CARTOON\n",
      "CHARACTER\n",
      "NARRATOR\n",
      "CARTOON\n",
      "CHARACTER\n",
      "NARRATOR\n",
      "CARTOON\n",
      "CHARACTER\n",
      "NARRATOR\n",
      "CARTOON\n",
      "CHARACTER\n",
      "NARRATOR\n",
      "CARTOON\n",
      "CHARACTER\n",
      "NARRATOR\n",
      "SCENE\n",
      "KNIGHTS\n",
      "ARTHUR\n",
      "TIM\n",
      "THE\n",
      "ENCHANTER\n",
      "I\n",
      "ARTHUR\n",
      "TIM\n",
      "ARTHUR\n",
      "TIM\n",
      "ARTHUR\n",
      "TIM\n",
      "I\n",
      "ARTHUR\n",
      "O\n",
      "TIM\n",
      "ROBIN\n",
      "ARTHUR\n",
      "KNIGHTS\n",
      "ARTHUR\n",
      "BEDEVERE\n",
      "GALAHAD\n",
      "ROBIN\n",
      "BEDEVERE\n",
      "ROBIN\n",
      "BEDEVERE\n",
      "ARTHUR\n",
      "GALAHAD\n",
      "ARTHUR\n",
      "I\n",
      "I\n",
      "TIM\n",
      "A\n",
      "ARTHUR\n",
      "A\n",
      "TIM\n",
      "A\n",
      "ARTHUR\n",
      "I\n",
      "ROBIN\n",
      "Y\n",
      "ARTHUR\n",
      "GALAHAD\n",
      "KNIGHTS\n",
      "TIM\n",
      "ROBIN\n",
      "ARTHUR\n",
      "ROBIN\n",
      "GALAHAD\n",
      "ARTHUR\n",
      "ROBIN\n",
      "KNIGHTS\n",
      "ARTHUR\n",
      "TIM\n",
      "I\n",
      "KNIGHTS\n",
      "TIM\n",
      "ARTHUR\n",
      "O\n",
      "TIM\n",
      "ARTHUR\n",
      "SCENE\n",
      "GALAHAD\n",
      "ARTHUR\n",
      "TIM\n",
      "ARTHUR\n",
      "GALAHAD\n",
      "ARTHUR\n",
      "W\n",
      "TIM\n",
      "ARTHUR\n",
      "TIM\n",
      "ARTHUR\n",
      "TIM\n",
      "ARTHUR\n",
      "TIM\n",
      "ARTHUR\n",
      "TIM\n",
      "ARTHUR\n",
      "TIM\n",
      "ARTHUR\n",
      "TIM\n",
      "ROBIN\n",
      "I\n",
      "I\n",
      "TIM\n",
      "GALAHAD\n",
      "TIM\n",
      "GALAHAD\n",
      "ROBIN\n",
      "TIM\n",
      "I\n",
      "ROBIN\n",
      "TIM\n",
      "ARTHUR\n",
      "BORS\n",
      "TIM\n",
      "BORS\n",
      "ARTHUR\n",
      "TIM\n",
      "I\n",
      "ROBIN\n",
      "I\n",
      "TIM\n",
      "I\n",
      "I\n",
      "ARTHUR\n",
      "TIM\n",
      "ARTHUR\n",
      "TIM\n",
      "KNIGHTS\n",
      "KNIGHTS\n",
      "ARTHUR\n",
      "KNIGHTS\n",
      "TIM\n",
      "ARTHUR\n",
      "LAUNCELOT\n",
      "GALAHAD\n",
      "ARTHUR\n",
      "GALAHAD\n",
      "ARTHUR\n",
      "ROBIN\n",
      "ARTHUR\n",
      "GALAHAD\n",
      "ARTHUR\n",
      "GALAHAD\n",
      "LAUNCELOT\n",
      "ARTHUR\n",
      "LAUNCELOT\n",
      "ARTHUR\n",
      "MONKS\n",
      "ARTHUR\n",
      "LAUNCELOT\n",
      "I\n",
      "ARTHUR\n",
      "BROTHER\n",
      "MAYNARD\n",
      "SECOND\n",
      "BROTHER\n",
      "O\n",
      "MAYNARD\n",
      "SECOND\n",
      "BROTHER\n",
      "MAYNARD\n",
      "KNIGHTS\n",
      "ARTHUR\n",
      "GALAHAD\n",
      "ARTHUR\n",
      "SCENE\n",
      "ARTHUR\n",
      "LAUNCELOT\n",
      "GALAHAD\n",
      "ARTHUR\n",
      "MAYNARD\n",
      "GALAHAD\n",
      "LAUNCELOT\n",
      "ARTHUR\n",
      "MAYNARD\n",
      "ARTHUR\n",
      "MAYNARD\n",
      "BEDEVERE\n",
      "MAYNARD\n",
      "LAUNCELOT\n",
      "MAYNARD\n",
      "ARTHUR\n",
      "MAYNARD\n",
      "GALAHAD\n",
      "ARTHUR\n",
      "MAYNARD\n",
      "LAUNCELOT\n",
      "ARTHUR\n",
      "BEDEVERE\n",
      "GALAHAD\n",
      "BEDEVERE\n",
      "I\n",
      "LAUNCELOT\n",
      "ARTHUR\n",
      "LAUNCELOT\n",
      "KNIGHTS\n",
      "BEDEVERE\n",
      "LAUNCELOT\n",
      "BEDEVERE\n",
      "N\n",
      "LAUNCELOT\n",
      "BEDEVERE\n",
      "I\n",
      "ARTHUR\n",
      "GALAHAD\n",
      "MAYNARD\n",
      "BROTHER\n",
      "MAYNARD\n",
      "BEDEVERE\n",
      "ARTHUR\n",
      "KNIGHTS\n",
      "BEDEVERE\n",
      "KNIGHTS\n",
      "NARRATOR\n",
      "ANIMATOR\n",
      "NARRATOR\n",
      "SCENE\n",
      "GALAHAD\n",
      "ARTHUR\n",
      "ROBIN\n",
      "ARTHUR\n",
      "BEDEVERE\n",
      "ARTHUR\n",
      "GALAHAD\n",
      "ARTHUR\n",
      "GALAHAD\n",
      "ARTHUR\n",
      "ROBIN\n",
      "ARTHUR\n",
      "ROBIN\n",
      "I\n",
      "GALAHAD\n",
      "ARTHUR\n",
      "ROBIN\n",
      "ARTHUR\n",
      "ROBIN\n",
      "I\n",
      "LAUNCELOT\n",
      "I\n",
      "I\n",
      "ARTHUR\n",
      "GALAHAD\n",
      "ARTHUR\n",
      "LAUNCELOT\n",
      "I\n",
      "ARTHUR\n",
      "BRIDGEKEEPER\n",
      "LAUNCELOT\n",
      "I\n",
      "BRIDGEKEEPER\n",
      "LAUNCELOT\n",
      "BRIDGEKEEPER\n",
      "LAUNCELOT\n",
      "BRIDGEKEEPER\n",
      "LAUNCELOT\n",
      "BRIDGEKEEPER\n",
      "LAUNCELOT\n",
      "ROBIN\n",
      "BRIDGEKEEPER\n",
      "ROBIN\n",
      "I\n",
      "BRIDGEKEEPER\n",
      "ROBIN\n",
      "BRIDGEKEEPER\n",
      "ROBIN\n",
      "BRIDGEKEEPER\n",
      "ROBIN\n",
      "I\n",
      "BRIDGEKEEPER\n",
      "GALAHAD\n",
      "BRIDGEKEEPER\n",
      "GALAHAD\n",
      "I\n",
      "BRIDGEKEEPER\n",
      "GALAHAD\n",
      "BRIDGEKEEPER\n",
      "ARTHUR\n",
      "BRIDGEKEEPER\n",
      "ARTHUR\n",
      "BRIDGEKEEPER\n",
      "ARTHUR\n",
      "BRIDGEKEEPER\n",
      "I\n",
      "I\n",
      "BEDEVERE\n",
      "ARTHUR\n",
      "SCENE\n",
      "ARTHUR\n",
      "BEDEVERE\n",
      "ARTHUR\n",
      "BEDEVERE\n",
      "ARTHUR\n",
      "FRENCH\n",
      "GUARD\n",
      "ARTHUR\n",
      "I\n",
      "FRENCH\n",
      "GUARD\n",
      "I\n",
      "I\n",
      "ARTHUR\n",
      "FRENCH\n",
      "GUARD\n",
      "I\n",
      "ARTHUR\n",
      "FRENCH\n",
      "GUARDS\n",
      "ARTHUR\n",
      "FRENCH\n",
      "GUARD\n",
      "ARTHUR\n",
      "FRENCH\n",
      "GUARD\n",
      "FRENCH\n",
      "GUARDS\n",
      "ARTHUR\n",
      "BEDEVERE\n",
      "ARTHUR\n",
      "FRENCH\n",
      "GUARDS\n",
      "ARTHUR\n",
      "FRENCH\n",
      "GUARDS\n",
      "ARTHUR\n",
      "FRENCH\n",
      "GUARDS\n",
      "ARTHUR\n",
      "ARMY\n",
      "OF\n",
      "KNIGHTS\n",
      "HISTORIAN\n",
      "S\n",
      "WIFE\n",
      "I\n",
      "INSPECTOR\n",
      "OFFICER\n",
      "HISTORIAN\n",
      "S\n",
      "WIFE\n",
      "OFFICER\n",
      "INSPECTOR\n",
      "OFFICER\n",
      "BEDEVERE\n",
      "INSPECTOR\n",
      "OFFICER\n",
      "INSPECTOR\n",
      "OFFICER\n",
      "OFFICER\n",
      "RANDOM\n",
      "RANDOM\n",
      "OFFICER\n",
      "OFFICER\n",
      "OFFICER\n",
      "OFFICER\n",
      "INSPECTOR\n",
      "OFFICER\n",
      "CAMERAMAN\n"
     ]
    }
   ],
   "source": [
    "for word in text6:\n",
    "    if word.isupper():\n",
    "        print(word)"
   ]
  },
  {
   "cell_type": "markdown",
   "metadata": {},
   "source": [
    "## Q24) Write expressions for finding all words in text6 that meet the conditions listed below. The result should be in the form of a list of words: ['word1', 'word2', ...].<br><ol><li>Ending in ise</li><li>Containing the letter z</li><li>Containing the sequence of letters pt</li><li>Having all lowercase letters except for an initial capital (i.e., titlecase)</li>\n"
   ]
  },
  {
   "cell_type": "code",
   "execution_count": 14,
   "metadata": {},
   "outputs": [
    {
     "name": "stdout",
     "output_type": "stream",
     "text": [
      "[]\n"
     ]
    }
   ],
   "source": [
    "# Words ending with 'ize'\n",
    "print([word for word in text6 if word.endswith('ize')])"
   ]
  },
  {
   "cell_type": "code",
   "execution_count": 15,
   "metadata": {},
   "outputs": [
    {
     "name": "stdout",
     "output_type": "stream",
     "text": [
      "['zone', 'amazes', 'Fetchez', 'Fetchez', 'zoop', 'zoo', 'zhiv', 'frozen', 'zoosh']\n"
     ]
    }
   ],
   "source": [
    "# Containing the letter z\n",
    "print([word for word in text6 if 'z' in word])"
   ]
  },
  {
   "cell_type": "code",
   "execution_count": 16,
   "metadata": {},
   "outputs": [
    {
     "name": "stdout",
     "output_type": "stream",
     "text": [
      "['empty', 'aptly', 'Thpppppt', 'Thppt', 'Thppt', 'empty', 'Thppppt', 'temptress', 'temptation', 'ptoo', 'Chapter', 'excepting', 'Thpppt']\n"
     ]
    }
   ],
   "source": [
    "# Containing the sequence of letters pt\n",
    "print([word for word in text6 if 'pt' in word])"
   ]
  },
  {
   "cell_type": "code",
   "execution_count": 17,
   "metadata": {},
   "outputs": [
    {
     "name": "stdout",
     "output_type": "stream",
     "text": [
      "['Whoa', 'Halt', 'Who', 'It', 'I', 'Arthur', 'Uther', 'Pendragon', 'Camelot', 'King', 'Britons', 'Saxons', 'England', 'Pull', 'I', 'Patsy', 'We', 'Camelot', 'I', 'What', 'Ridden', 'Yes', 'You', 'What', 'You', 'So', 'We', 'Mercea', 'Where', 'We', 'Found', 'In', 'Mercea', 'The', 'What', 'Well', 'The', 'Are', 'Not', 'They', 'What', 'A', 'It', 'It', 'It', 'A', 'Well', 'Will', 'Arthur', 'Court', 'Camelot', 'Listen', 'In', 'Please', 'Am', 'I', 'I', 'It', 'African', 'Oh', 'African', 'European', 'That', 'Oh', 'I', 'Will', 'Camelot', 'But', 'African', 'Oh', 'So', 'Wait', 'Supposing', 'No', 'Well', 'They', 'What', 'Well', 'Bring', 'Bring', 'Bring', 'Bring', 'Bring', 'Bring', 'Bring', 'Bring', 'Ninepence', 'Bring', 'Bring', 'Bring', 'Bring', 'Here', 'Ninepence', 'I', 'What', 'Nothing', 'Here', 'I', 'Ere', 'He', 'Yes', 'I', 'He', 'Well', 'He', 'I', 'No', 'You', 'Oh', 'I', 'It', 'I', 'Oh', 'I', 'I', 'Well', 'I', 'Well', 'He', 'No', 'I', 'Robinson', 'They', 'Well', 'Thursday', 'I', 'I', 'You', 'Look', 'I', 'I', 'Ah', 'Not', 'See', 'Thursday', 'Right', 'All', 'Who', 'I', 'Must', 'Why', 'He', 'King', 'Arthur', 'King', 'Arthur', 'Old', 'Man', 'Man', 'Sorry', 'What', 'I', 'I', 'I', 'I', 'Well', 'I', 'Man', 'Well', 'Dennis', 'Well', 'I', 'Dennis', 'Well', 'I', 'What', 'I', 'Well', 'I', 'Oh', 'And', 'By', 'By', 'If', 'Dennis', 'Oh', 'How', 'How', 'I', 'Arthur', 'King', 'Britons', 'Who', 'King', 'The', 'Britons', 'Who', 'Britons', 'Well', 'We', 'Britons', 'I', 'I', 'I', 'You', 'We', 'A', 'Oh', 'That', 'If', 'Please', 'I', 'Who', 'No', 'Then', 'We', 'What', 'I', 'We', 'We', 'Yes', 'But', 'Yes', 'I', 'By', 'Be', 'But', 'Be', 'I', 'Order', 'Who', 'Heh', 'I', 'Well', 'I', 'You', 'Well', 'The', 'Lady', 'Lake', 'Excalibur', 'Divine', 'Providence', 'I', 'Arthur', 'Excalibur', 'That', 'I', 'Listen', 'Supreme', 'Be', 'Well', 'Shut', 'I', 'I', 'I', 'Shut', 'Shut', 'Ah', 'Shut', 'Oh', 'Come', 'Help', 'I', 'Bloody', 'Oh', 'Did', 'Did', 'That', 'I', 'Did', 'You', 'King', 'Arthur', 'Aaagh', 'King', 'Arthur', 'Aaagh', 'Ooh', 'King', 'Arthur', 'Aagh', 'Oh', 'King', 'Arthur', 'Ooh', 'Aaagh', 'Agh', 'Aaaaaah', 'Aaaaaaaaah', 'Umm', 'You', 'Sir', 'Knight', 'I', 'Arthur', 'King', 'Britons', 'I', 'Camelot', 'You', 'Will', 'You', 'So', 'Come', 'Patsy', 'None', 'What', 'None', 'I', 'Sir', 'Knight', 'I', 'Then', 'I', 'King', 'Britons', 'I', 'So', 'Aaah', 'Now', 'Tis', 'A', 'Your', 'No', 'Well', 'I', 'You', 'Come', 'Huyah', 'Hiyaah', 'Aaaaaaaah', 'Victory', 'We', 'Thee', 'Lord', 'Thy', 'Hah', 'Come', 'What', 'Have', 'Eh', 'You', 'Sir', 'Knight', 'Oh', 'Look', 'You', 'Yes', 'I', 'Look', 'Just', 'Look', 'Chicken', 'Chickennn', 'Look', 'I', 'Right', 'Right', 'I', 'You', 'Come', 'What', 'I', 'You', 'The', 'Black', 'Knight', 'Have', 'Come', 'Ooh', 'All', 'Come', 'Patsy', 'Oh', 'Oh', 'I', 'Running', 'You', 'Come', 'I', 'Pie', 'Iesu', 'Pie', 'Iesu', 'Pie', 'Iesu', 'A', 'A', 'A', 'A', 'Pie', 'Iesu', 'A', 'A', 'A', 'A', 'We', 'A', 'A', 'A', 'A', 'We', 'A', 'A', 'Burn', 'Burn', 'Burn', 'We', 'We', 'A', 'A', 'A', 'We', 'May', 'Burn', 'Burn', 'Burn', 'Burn', 'How', 'She', 'Right', 'Yeah', 'Yeah', 'Bring', 'I', 'I', 'Uh', 'They', 'Augh', 'We', 'And', 'It', 'Well', 'Well', 'The', 'And', 'Yeah', 'We', 'Right', 'Yeaaah', 'Yeaah', 'Did', 'No', 'No', 'No', 'No', 'No', 'No', 'Yes', 'Yes', 'Yes', 'Yeah', 'A', 'A', 'A', 'She', 'What', 'Well', 'A', 'I', 'Burn', 'Burn', 'Burn', 'Burn', 'Burn', 'Quiet', 'Quiet', 'Quiet', 'Quiet', 'There', 'Are', 'Ah', 'What', 'Tell', 'Tell', 'Tell', 'Burn', 'Burn', 'Burn', 'Burn', 'Burn', 'And', 'More', 'Shh', 'Wood', 'So', 'B', 'Good', 'Heh', 'Oh', 'Oh', 'So', 'Build', 'Ah', 'Oh', 'Oh', 'True', 'Uhh', 'Does', 'No', 'No', 'No', 'It', 'Throw', 'The', 'Throw', 'What', 'Bread', 'Apples', 'Uh', 'Cider', 'Uh', 'Cherries', 'Mud', 'Churches', 'Churches', 'Lead', 'Lead', 'A', 'Oooh', 'Exactly', 'So', 'If', 'And', 'A', 'A', 'A', 'A', 'Here', 'Use', 'We', 'Ohh', 'Ohh', 'Burn', 'Burn', 'Burn', 'Burn', 'Burn', 'Burn', 'Burn', 'Burn', 'Burn', 'Ahh', 'Ahh', 'Right', 'Remove', 'A', 'A', 'A', 'It', 'Burn', 'Burn', 'Burn', 'Burn', 'Burn', 'Burn', 'Who', 'I', 'Arthur', 'King', 'Britons', 'My', 'Good', 'Sir', 'Knight', 'Camelot', 'Round', 'Table', 'My', 'I', 'What', 'Bedevere', 'Then', 'I', 'Sir', 'Bedevere', 'Knight', 'Round', 'Table', 'The', 'Sir', 'Bedevere', 'King', 'Arthur', 'Sir', 'Lancelot', 'Brave', 'Sir', 'Gallahad', 'Pure', 'Sir', 'Robin', 'Sir', 'Lancelot', 'Dragon', 'Angnor', 'Chicken', 'Bristol', 'Battle', 'Badon', 'Hill', 'Sir', 'Not', 'Together', 'Knights', 'Round', 'Table', 'And', 'This', 'Sir', 'Bedevere', 'Explain', 'Oh', 'Look', 'Camelot', 'Camelot', 'Camelot', 'It', 'Shh', 'Knights', 'I', 'Let', 'Camelot', 'We', 'We', 'We', 'With', 'We', 'Camelot', 'We', 'We', 'Round', 'Table', 'Our', 'But', 'That', 'We', 'Camelot', 'We', 'In', 'Quite', 'Between', 'Clark', 'Gable', 'It', 'Camelot', 'I', 'Well', 'Camelot', 'It', 'Right', 'Right', 'Arthur', 'Arthur', 'King', 'Britons', 'Oh', 'One', 'I', 'Sorry', 'And', 'Every', 'I', 'I', 'What', 'I', 'O', 'Lord', 'Well', 'It', 'Psalms', 'Now', 'Yes', 'Lord', 'Right', 'Arthur', 'King', 'Britons', 'Knights', 'Round', 'Table', 'Good', 'O', 'Lord', 'Course', 'Behold', 'Arthur', 'Holy', 'Grail', 'Look', 'Arthur', 'That', 'Arthur', 'Holy', 'Grail', 'A', 'A', 'Lord', 'God', 'King', 'Arthur', 'Halt', 'Hallo', 'Hallo', 'Allo', 'Who', 'It', 'King', 'Arthur', 'Knights', 'Round', 'Table', 'Who', 'This', 'Guy', 'Loimbard', 'Go', 'God', 'If', 'Holy', 'Grail', 'Well', 'I', 'I', 'Uh', 'What', 'He', 'Are', 'Oh', 'I', 'Well', 'Of', 'You', 'English', 'Well', 'I', 'French', 'Why', 'I', 'What', 'England', 'Mind', 'If', 'Grail', 'You', 'English', 'Go', 'I', 'Arthur', 'King', 'English', 'Thpppppt', 'Thppt', 'Thppt', 'What', 'Now', 'I', 'I', 'You', 'Is', 'No', 'I', 'Now', 'I', 'Fetchez', 'Quoi', 'Fetchez', 'If', 'I', 'Jesus', 'Christ', 'Christ', 'Ah', 'Ohh', 'Right', 'Charge', 'Charge', 'Hey', 'There', 'And', 'Run', 'Run', 'Thppppt', 'Fiends', 'I', 'No', 'No', 'Sir', 'I', 'C', 'Quoi', 'Un', 'What', 'A', 'Oh', 'Oui', 'Hurry', 'What', 'Let', 'Oh', 'On', 'Bon', 'Over', 'What', 'Well', 'Launcelot', 'Galahad', 'I', 'French', 'Not', 'Who', 'U', 'Launcelot', 'Galahad', 'I', 'Uh', 'Ohh', 'Oh', 'Um', 'Run', 'Run', 'Run', 'Run', 'Run', 'Run', 'Run', 'Run', 'Oh', 'Haw', 'Haw', 'Picture', 'Schools', 'Action', 'Defeat', 'King', 'Arthur', 'The', 'French', 'Arthur', 'Holy', 'Grail', 'Arthur', 'Grail', 'Now', 'Launcelot', 'Aaaah', 'S', 'Frank', 'The', 'Tale', 'Sir', 'Robin', 'So', 'Sir', 'Robin', 'Ewing', 'Bravely', 'Sir', 'Robin', 'Camelot', 'He', 'O', 'Sir', 'Robin', 'He', 'Brave', 'Sir', 'Robin', 'He', 'Or', 'To', 'And', 'Sir', 'Robin', 'His', 'And', 'And', 'And', 'That', 'Heh', 'Looks', 'Anarcho', 'Oh', 'Dennis', 'We', 'Halt', 'Who', 'He', 'Sir', 'Robin', 'Sir', 'Robin', 'Shut', 'Um', 'I', 'What', 'To', 'Shut', 'Um', 'I', 'Sir', 'Knight', 'I', 'Ah', 'W', 'I', 'I', 'Knight', 'Round', 'Table', 'You', 'Knight', 'Round', 'Table', 'I', 'In', 'I', 'Shall', 'I', 'Oh', 'I', 'Well', 'I', 'I', 'Oh', 'Oh', 'Perhaps', 'I', 'And', 'Oh', 'Get', 'I', 'Oh', 'Yes', 'What', 'Yapping', 'You', 'You', 'What', 'You', 'Oh', 'I', 'Anyway', 'Well', 'Oh', 'Oh', 'All', 'All', 'We', 'Yes', 'Oh', 'All', 'All', 'Right', 'He', 'So', 'He', 'Brave', 'Sir', 'Robin', 'No', 'Bravely', 'I', 'When', 'No', 'Yes', 'Sir', 'Robin', 'I', 'And', 'I', 'He', 'All', 'Bravest', 'Sir', 'Robin', 'I', 'Pie', 'Iesu', 'Heh', 'Pie', 'Iesu', 'Wayy', 'Ho', 'Woa', 'Heh', 'Heh', 'Wayy', 'Wayy', 'Forgive', 'Oh', 'Oooo', 'The', 'Tale', 'Sir', 'Galahad', 'Open', 'Open', 'In', 'King', 'Arthur', 'Hello', 'Welcome', 'Sir', 'Knight', 'Welcome', 'Castle', 'Anthrax', 'The', 'Castle', 'Anthrax', 'Yes', 'Oh', 'Oh', 'You', 'Holy', 'Grail', 'The', 'The', 'Grail', 'It', 'Oh', 'Midget', 'Crapper', 'Yes', 'O', 'Zoot', 'Prepare', 'Oh', 'Thank', 'Thank', 'Thank', 'Thank', 'Thank', 'Away', 'The', 'Well', 'I', 'I', 'What', 'Sir', 'Galahad', 'Chaste', 'Mine', 'Zoot', 'Just', 'Zoot', 'Oh', 'Look', 'In', 'God', 'Grail', 'Oh', 'You', 'No', 'I', 'It', 'Sir', 'Galahad', 'You', 'Well', 'I', 'I', 'Oh', 'I', 'We', 'Oooh', 'It', 'We', 'Nay', 'Nay', 'Come', 'Come', 'You', 'Oh', 'No', 'Oh', 'No', 'Lie', 'Well', 'They', 'Uh', 'B', 'Oh', 'You', 'Doctor', 'Piglet', 'Doctor', 'Winston', 'Practice', 'Try', 'Are', 'We', 'There', 'Please', 'We', 'Look', 'This', 'I', 'Back', 'At', 'Torment', 'I', 'Grail', 'There', 'I', 'I', 'I', 'Hello', 'Oh', 'Hello', 'Hello', 'Hello', 'Hello', 'Hello', 'Hello', 'Hello', 'Hello', 'Hello', 'Hello', 'Hello', 'Hello', 'Hello', 'Hello', 'Hello', 'Hello', 'Hello', 'Hello', 'Hello', 'Hello', 'Hello', 'Hello', 'Hello', 'Zoot', 'No', 'I', 'Zoot', 'Dingo', 'Oh', 'I', 'Where', 'I', 'Grail', 'I', 'Oh', 'Oh', 'Bad', 'Zoot', 'Well', 'Oh', 'Zoot', 'She', 'I', 'It', 'It', 'Grail', 'Oh', 'Zoot', 'She', 'Do', 'We', 'It', 'I', 'At', 'Well', 'It', 'Get', 'Yes', 'Yes', 'Oh', 'I', 'Get', 'Oh', 'Zoot', 'Oh', 'And', 'Castle', 'Anthrax', 'You', 'A', 'A', 'You', 'And', 'And', 'And', 'And', 'And', 'Yes', 'A', 'A', 'There', 'And', 'The', 'The', 'Well', 'I', 'Sir', 'Galahad', 'Oh', 'Quick', 'What', 'Quick', 'Why', 'You', 'No', 'Silence', 'You', 'Come', 'We', 'Look', 'I', 'Come', 'Sir', 'Galahad', 'No', 'Look', 'I', 'Yes', 'Let', 'Yes', 'Let', 'No', 'Sir', 'Galahad', 'Come', 'No', 'Really', 'Honestly', 'I', 'I', 'Oh', 'Let', 'Yes', 'Let', 'No', 'Quick', 'Quick', 'Please', 'I', 'There', 'Yes', 'He', 'We', 'We', 'He', 'Oh', 'We', 'You', 'I', 'I', 'Yes', 'You', 'Look', 'No', 'Look', 'I', 'No', 'Holy', 'Grail', 'Come', 'Oh', 'No', 'It', 'I', 'No', 'I', 'Sir', 'Launcelot', 'Sir', 'Galahad', 'Grail', 'Meanwhile', 'King', 'Arthur', 'Sir', 'Bedevere', 'Oh', 'I', 'I', 'Get', 'Oh', 'On', 'Arthur', 'I', 'Heh', 'Hee', 'And', 'Grail', 'Ha', 'Heh', 'Ha', 'Ha', 'Where', 'Heh', 'Old', 'Hee', 'He', 'And', 'Grail', 'The', 'Grail', 'There', 'Gorge', 'Eternal', 'Peril', 'But', 'Grail', 'Where', 'Grail', 'Seek', 'Bridge', 'Death', 'The', 'Bridge', 'Death', 'Grail', 'Heh', 'Ha', 'Hee', 'Ni', 'Ni', 'Ni', 'Ni', 'Ni', 'Ni', 'Who', 'We', 'Knights', 'Who', 'Say', 'Ni', 'Ni', 'No', 'Not', 'Knights', 'Who', 'Say', 'Ni', 'The', 'Who', 'We', 'Ni', 'Peng', 'Neee', 'Neee', 'Those', 'The', 'Knights', 'Who', 'Say', 'Ni', 'Knights', 'Ni', 'Ni', 'Ni', 'Ni', 'Ni', 'Ni', 'Ni', 'Ow', 'Ow', 'Ow', 'Agh', 'We', 'Well', 'We', 'A', 'Ni', 'Ni', 'Ni', 'Ni', 'Ow', 'Oh', 'Please', 'No', 'We', 'You', 'O', 'Knights', 'Ni', 'One', 'Of', 'And', 'Yes', 'Now', 'Hmm', 'Oh', 'Great', 'Hm', 'Hmm', 'Hm', 'Hmm', 'Ohh', 'Ay', 'Thsss', 'Ayy', 'Thsss', 'Ayy', 'Stop', 'Stop', 'Ay', 'Stop', 'Look', 'Clear', 'Go', 'Go', 'Go', 'Go', 'And', 'Clear', 'Hah', 'Bloody', 'The', 'Tale', 'Sir', 'Launcelot', 'One', 'What', 'No', 'Not', 'All', 'This', 'But', 'Mother', 'Father', 'Father', 'B', 'Father', 'I', 'Listen', 'I', 'When', 'I', 'Other', 'I', 'I', 'It', 'So', 'I', 'That', 'So', 'I', 'That', 'But', 'And', 'But', 'I', 'I', 'Rather', 'I', 'Stop', 'Stop', 'You', 'I', 'Now', 'In', 'Britain', 'B', 'I', 'Listen', 'Alice', 'Herbert', 'Erbert', 'We', 'We', 'But', 'I', 'Don', 'What', 'She', 'She', 'She', 'I', 'I', 'I', 'Cut', 'Cut', 'Look', 'Princess', 'Lucky', 'Guards', 'Make', 'Prince', 'I', 'Not', 'Hic', 'No', 'Until', 'I', 'Until', 'No', 'No', 'You', 'And', 'Hic', 'Right', 'We', 'No', 'Leaving', 'Leaving', 'Yes', 'All', 'Right', 'Hic', 'Right', 'Oh', 'Yes', 'What', 'Oh', 'Look', 'Uh', 'You', 'Alright', 'Hic', 'Right', 'Oh', 'I', 'Uhh', 'N', 'No', 'You', 'Oh', 'We', 'But', 'No', 'Just', 'Until', 'No', 'Just', 'Just', 'Hic', 'Get', 'Get', 'All', 'Right', 'We', 'Hic', 'And', 'What', 'Make', 'The', 'Prince', 'Yes', 'Make', 'Oh', 'Hic', 'Ah', 'I', 'You', 'Is', 'Hic', 'Oh', 'No', 'Right', 'Where', 'We', 'No', 'I', 'Oh', 'I', 'Right', 'But', 'Father', 'Shut', 'And', 'And', 'Hic', 'Oh', 'Well', 'Concorde', 'Thank', 'Most', 'And', 'Over', 'Good', 'Steady', 'And', 'Uuh', 'Come', 'Concorde', 'Message', 'Concorde', 'Concorde', 'Speak', 'To', 'I', 'Please', 'I', 'Tall', 'Tower', 'Swamp', 'Castle', 'At', 'A', 'A', 'This', 'Holy', 'Grail', 'Brave', 'Concorde', 'Uh', 'I', 'I', 'Well', 'I', 'I', 'I', 'I', 'I', 'Oh', 'I', 'Actually', 'I', 'I', 'No', 'Concorde', 'Stay', 'I', 'I', 'Idiom', 'Idiom', 'No', 'I', 'Farewell', 'Concorde', 'I', 'I', 'Shall', 'I', 'Yeah', 'Morning', 'Morning', 'Oooh', 'Ha', 'Hiyya', 'Hey', 'Hiyya', 'Ha', 'Ha', 'Huy', 'Uuh', 'Aaah', 'Ha', 'And', 'Aah', 'Hiyah', 'Aah', 'Aaah', 'Hyy', 'Hya', 'Hiyya', 'Ha', 'Now', 'O', 'Sir', 'Launcelot', 'Camelot', 'I', 'Oh', 'I', 'You', 'Uh', 'I', 'I', 'You', 'Uh', 'You', 'I', 'I', 'I', 'Well', 'I', 'Stop', 'Stop', 'Stop', 'Stop', 'Who', 'I', 'No', 'Uh', 'I', 'Sir', 'Launcelot', 'He', 'Father', 'Well', 'Did', 'Uh', 'Oh', 'Sorry', 'They', 'Well', 'I', 'Um', 'I', 'Don', 'Sir', 'Launcelot', 'I', 'You', 'Well', 'I', 'I', 'Hurry', 'Sir', 'Launcelot', 'Hurry', 'Shut', 'You', 'Well', 'I', 'Didn', 'You', 'Oh', 'Is', 'You', 'This', 'Well', 'I', 'I', 'Camelot', 'I', 'Camelot', 'Are', 'Camelot', 'Hurry', 'Sir', 'Launcelot', 'Uh', 'I', 'Knight', 'King', 'Arthur', 'Very', 'Camelot', 'Uh', 'Is', 'Hurry', 'I', 'Would', 'Well', 'I', 'I', 'Um', 'Oooh', 'I', 'I', 'I', 'Oh', 'Oooh', 'Well', 'We', 'There', 'Oh', 'Ha', 'Hey', 'Ha', 'Hold', 'Stop', 'Hold', 'Hold', 'Hold', 'Hold', 'Hold', 'Please', 'Sorry', 'Sorry', 'You', 'I', 'I', 'I', 'Sorry', 'Sorry', 'He', 'Hold', 'Hold', 'Please', 'Hold', 'This', 'Sir', 'Launcelot', 'Court', 'Camelot', 'Hello', 'He', 'Please', 'Please', 'This', 'Let', 'We', 'Unfortunately', 'Herbert', 'Oh', 'Oh', 'But', 'I', 'I', 'For', 'He', 'Since', 'He', 'For', 'S', 'Uugh', 'Oh', 'And', 'I', 'And', 'I', 'Princess', 'Sir', 'Launcelot', 'Camelot', 'What', 'Look', 'The', 'Prince', 'Oooh', 'The', 'Prince', 'He', 'No', 'I', 'You', 'Tall', 'Tower', 'No', 'I', 'How', 'Well', 'I', 'Not', 'Not', 'No', 'Stop', 'He', 'He', 'Shut', 'He', 'Shut', 'He', 'Shut', 'He', 'Not', 'He', 'He', 'He', 'He', 'Quickly', 'He', 'Come', 'He', 'He', 'No', 'It', 'He', 'I', 'Oh', 'Dramatically', 'Dramatically', 'But', 'Heee', 'Hoa', 'Hoo', 'What', 'Excuse', 'Could', 'King', 'Arthur', 'Old', 'Is', 'Who', 'The', 'Knights', 'Who', 'Say', 'Ni', 'Aggh', 'No', 'Never', 'We', 'If', 'I', 'Agh', 'Do', 'Very', 'If', 'No', 'Never', 'No', 'Ni', 'Nu', 'No', 'Nu', 'No', 'Nu', 'No', 'You', 'No', 'Ni', 'Ni', 'That', 'That', 'You', 'Ni', 'Ohh', 'Ni', 'Ni', 'Agh', 'Ni', 'Ni', 'Ni', 'Ni', 'Ni', 'Are', 'Erm', 'Oh', 'There', 'Nothing', 'Even', 'Did', 'Yes', 'Shrubberies', 'I', 'My', 'Roger', 'Shrubber', 'I', 'Ni', 'No', 'No', 'No', 'O', 'Knights', 'Ni', 'May', 'It', 'I', 'But', 'What', 'We', 'Knights', 'Who', 'Say', 'Ni', 'Ni', 'Shh', 'Shh', 'We', 'Knights', 'Who', 'Say', 'Ecky', 'Ni', 'Therefore', 'What', 'O', 'Knights', 'Knights', 'Who', 'Til', 'Recently', 'Said', 'Ni', 'Firstly', 'Not', 'Ni', 'Then', 'A', 'A', 'A', 'Ni', 'Shh', 'Ni', 'Ni', 'Ni', 'Shh', 'Shh', 'Then', 'We', 'Oh', 'Cut', 'It', 'Aaaugh', 'Aaaugh', 'Augh', 'Ohh', 'Don', 'What', 'I', 'Knights', 'Ni', 'How', 'Aaaaugh', 'You', 'What', 'Agh', 'No', 'No', 'You', 'No', 'Not', 'My', 'Sir', 'Robin', 'Packing', 'And', 'And', 'Yes', 'Sir', 'Robin', 'My', 'It', 'Now', 'Surely', 'Holy', 'Grail', 'He', 'Shut', 'No', 'No', 'Far', 'He', 'Aaaaugh', 'I', 'Aaaaugh', 'Uh', 'No', 'Aaaaugh', 'Aaaaugh', 'Stop', 'The', 'Oh', 'Ow', 'He', 'Patsy', 'Wait', 'I', 'I', 'Ooh', 'I', 'And', 'That', 'Ohh', 'Aaaaugh', 'And', 'Arthur', 'Bedevere', 'Sir', 'Robin', 'Beyond', 'Launcelot', 'Galahad', 'Yay', 'Yay', 'In', 'Nador', 'Robin', 'Get', 'Eee', 'And', 'Yay', 'A', 'Winter', 'Spring', 'Mmm', 'Spring', 'Summer', 'Oh', 'Ahh', 'Summer', 'Winter', 'Oh', 'And', 'Winter', 'Spring', 'Summer', 'Autumn', 'Aah', 'Oh', 'Waa', 'Until', 'King', 'Arthur', 'Eh', 'Oh', 'See', 'Oh', 'Oh', 'Knights', 'Forward', 'What', 'I', 'By', 'There', 'Tim', 'Greetings', 'Tim', 'Enchanter', 'Greetings', 'King', 'Arthur', 'You', 'I', 'You', 'Holy', 'Grail', 'That', 'You', 'O', 'Tim', 'Quite', 'Oh', 'Yes', 'Holy', 'Grail', 'Our', 'Holy', 'Grail', 'Yeah', 'Yes', 'It', 'It', 'Yeah', 'Yup', 'Yup', 'Hm', 'And', 'Yes', 'Yeah', 'We', 'We', 'We', 'Ages', 'Umhm', 'Uh', 'Look', 'Fine', 'Um', 'I', 'I', 'A', 'A', 'A', 'Yes', 'I', 'Y', 'Yes', 'Yup', 'That', 'Yes', 'Oh', 'Oh', 'Thank', 'Ahh', 'Oh', 'Fine', 'Thank', 'Splendid', 'Aah', 'Look', 'Yes', 'I', 'Holy', 'Grail', 'Oh', 'Oh', 'To', 'Caerbannog', 'Olfin', 'Bedwere', 'Rheged', 'Holy', 'Grail', 'Where', 'O', 'Tim', 'Follow', 'But', 'Follow', 'Bones', 'So', 'What', 'They', 'Then', 'Dis', 'Behold', 'Caerbannog', 'Right', 'Keep', 'What', 'W', 'Too', 'What', 'There', 'Where', 'There', 'What', 'It', 'You', 'What', 'You', 'Well', 'Ohh', 'That', 'You', 'I', 'I', 'Look', 'Get', 'He', 'Oh', 'You', 'I', 'What', 'He', 'Go', 'Bors', 'Chop', 'Right', 'Silly', 'One', 'Look', 'Aaaugh', 'Jesus', 'Christ', 'I', 'I', 'I', 'Oh', 'Oh', 'Well', 'I', 'Oh', 'Do', 'Right', 'Oh', 'Charge', 'Aaaaugh', 'Aaaugh', 'Run', 'Run', 'Run', 'Run', 'Ha', 'Ha', 'Ha', 'Ha', 'Right', 'How', 'Gawain', 'Ector', 'And', 'Bors', 'That', 'Three', 'Three', 'Three', 'And', 'That', 'Would', 'Oh', 'Let', 'It', 'Like', 'Well', 'Have', 'No', 'We', 'Holy', 'Hand', 'Grenade', 'Yes', 'The', 'Holy', 'Hand', 'Grenade', 'Antioch', 'Tis', 'Brother', 'Maynard', 'Brother', 'Maynard', 'Bring', 'Holy', 'Hand', 'Grenade', 'Pie', 'Iesu', 'Pie', 'Iesu', 'Pie', 'Iesu', 'Pie', 'Iesu', 'How', 'I', 'Consult', 'Book', 'Armaments', 'Armaments', 'Chapter', 'Two', 'Nine', 'Twenty', 'And', 'Saint', 'Attila', 'O', 'Lord', 'And', 'Lord', 'Skip', 'Brother', 'And', 'Lord', 'First', 'Holy', 'Pin', 'Then', 'Three', 'Four', 'Five', 'Once', 'Holy', 'Hand', 'Grenade', 'Antioch', 'Amen', 'Amen', 'Right', 'One', 'Three', 'Three', 'There', 'Look', 'What', 'What', 'Brother', 'Maynard', 'You', 'It', 'Aramaic', 'Of', 'Joseph', 'Arimathea', 'Course', 'What', 'It', 'Here', 'Joseph', 'Arimathea', 'He', 'Holy', 'Grail', 'Castle', 'What', 'Castle', 'What', 'He', 'Oh', 'Well', 'Look', 'He', 'Well', 'Perhaps', 'Oh', 'Well', 'No', 'Just', 'Aauuggghhh', 'Aaauggh', 'Do', 'Camaaaaaargue', 'Where', 'France', 'I', 'Isn', 'Saint', 'Aauuuves', 'Cornwall', 'No', 'Saint', 'Ives', 'Oh', 'Saint', 'Iiiives', 'Iiiiives', 'Oooohoohohooo', 'No', 'Aauuuuugh', 'Aauuugh', 'N', 'No', 'Oooooooh', 'Oh', 'Yes', 'I', 'Oooh', 'My', 'God', 'It', 'Black', 'Beast', 'Aaauugh', 'Black', 'Beast', 'Aaauugh', 'That', 'That', 'Run', 'Run', 'Run', 'Run', 'Run', 'Keep', 'Shh', 'Shh', 'Shh', 'Shh', 'Shh', 'Shh', 'Shh', 'Shh', 'We', 'Aagh', 'As', 'Black', 'Beast', 'Arthur', 'Ulk', 'The', 'The', 'Holy', 'Grail', 'There', 'The', 'Bridge', 'Death', 'Oh', 'Look', 'There', 'What', 'He', 'Bridge', 'Death', 'He', 'Three', 'Three', 'He', 'Three', 'Three', 'What', 'Then', 'Gorge', 'Eternal', 'Peril', 'Oh', 'I', 'Who', 'Sir', 'Robin', 'Yes', 'Brave', 'Sir', 'Robin', 'Hey', 'I', 'Why', 'Launcelot', 'Yes', 'Let', 'I', 'I', 'No', 'No', 'Hang', 'Hang', 'Hang', 'Just', 'Three', 'Three', 'And', 'I', 'Good', 'Sir', 'Launcelot', 'God', 'Stop', 'Who', 'Bridge', 'Death', 'Ask', 'I', 'What', 'My', 'Sir', 'Launcelot', 'Camelot', 'What', 'To', 'Holy', 'Grail', 'What', 'Blue', 'Right', 'Off', 'Oh', 'Thank', 'That', 'Stop', 'Who', 'Bridge', 'Death', 'Ask', 'I', 'What', 'Sir', 'Robin', 'Camelot', 'What', 'To', 'Holy', 'Grail', 'What', 'Assyria', 'I', 'Auuuuuuuugh', 'Stop', 'What', 'Sir', 'Galahad', 'Camelot', 'What', 'I', 'Grail', 'What', 'Blue', 'No', 'Hee', 'Stop', 'What', 'It', 'Arthur', 'King', 'Britons', 'What', 'To', 'Holy', 'Grail', 'What', 'What', 'An', 'African', 'European', 'Huh', 'I', 'I', 'Auuuuuuuugh', 'How', 'Well', 'Launcelot', 'Launcelot', 'Launcelot', 'Launcelot', 'Launcelot', 'Launcelot', 'Launcelot', 'Launcelot', 'Launcelot', 'The', 'Castle', 'Aaagh', 'Our', 'God', 'Almighty', 'God', 'Thee', 'Thou', 'Jesus', 'Christ', 'Allo', 'English', 'Monsieur', 'Arthur', 'King', 'So', 'French', 'How', 'I', 'Knights', 'Camelot', 'God', 'Himself', 'How', 'English', 'I', 'So', 'French', 'I', 'In', 'Lord', 'No', 'English', 'I', 'If', 'In', 'God', 'Agh', 'Right', 'That', 'Yes', 'Ha', 'Walk', 'Just', 'And', 'And', 'English', 'Thpppt', 'We', 'Yes', 'Stand', 'French', 'Dappy', 'Today', 'In', 'God', 'Hoo', 'Ohh', 'Holy', 'Grail', 'God', 'Ha', 'Charge', 'Hooray', 'S', 'Yes', 'They', 'I', 'Come', 'Anybody', 'All', 'Come', 'Back', 'S', 'Get', 'Back', 'Right', 'Just', 'Come', 'Come', 'Put', 'Clear', 'Come', 'With', 'Which', 'Oh', 'Come', 'Put', 'Get', 'We', 'Ahh', 'Ooh', 'Come', 'Back', 'Riiight', 'Come', 'Run', 'Run', 'Pull', 'My', 'Come', 'Back', 'Back', 'Right', 'Come', 'Everything', 'All', 'That', 'Just', 'Christ']\n"
     ]
    }
   ],
   "source": [
    "# Having all lowercase letters except for an initial capital (i.e., titlecase)\n",
    "print([word for word in text6 if word.istitle()])"
   ]
  },
  {
   "cell_type": "markdown",
   "metadata": {},
   "source": [
    "## Q25) Define sent to be the list of words ['she', 'sells', 'sea', 'shells', 'by', 'the', 'sea', 'shore']. Now write code to perform the following tasks:<br><ol><li>Print all words beginning with sh</li><li>Print all words longer than four characters</li>"
   ]
  },
  {
   "cell_type": "code",
   "execution_count": 4,
   "metadata": {},
   "outputs": [],
   "source": [
    "# Creating a list of words.\n",
    "sent = ['she', 'sells', 'sea', 'shells', 'by', 'the', 'sea', 'shore']"
   ]
  },
  {
   "cell_type": "markdown",
   "metadata": {},
   "source": [
    "#### 1. Print all words beginning with sh"
   ]
  },
  {
   "cell_type": "code",
   "execution_count": 5,
   "metadata": {},
   "outputs": [
    {
     "data": {
      "text/plain": [
       "['she', 'shells', 'shore']"
      ]
     },
     "execution_count": 5,
     "metadata": {},
     "output_type": "execute_result"
    }
   ],
   "source": [
    "# Using list comprehension to print words beginning with 'sh' in 'sent'\n",
    "[w for w in sent if w.startswith('sh') ]"
   ]
  },
  {
   "cell_type": "markdown",
   "metadata": {},
   "source": [
    "#### 2. Print all words longer than four characters"
   ]
  },
  {
   "cell_type": "code",
   "execution_count": 6,
   "metadata": {},
   "outputs": [
    {
     "data": {
      "text/plain": [
       "['sells', 'shells', 'shore']"
      ]
     },
     "execution_count": 6,
     "metadata": {},
     "output_type": "execute_result"
    }
   ],
   "source": [
    "# Using list comprehension to find words longer than 4 characters in 'sent' \n",
    "[w for w in sent if len(w)>4 ]"
   ]
  },
  {
   "cell_type": "markdown",
   "metadata": {},
   "source": [
    "## Q26) What does the following Python code do? sum(len(w) for w in text1) Can you use it to work out the average word length of a text?"
   ]
  },
  {
   "cell_type": "markdown",
   "metadata": {},
   "source": [
    "#### The below example clearly shows that yes we can use 'sum(len(w) for w in text1)' to calculate average word length of text."
   ]
  },
  {
   "cell_type": "code",
   "execution_count": 7,
   "metadata": {},
   "outputs": [
    {
     "data": {
      "text/plain": [
       "<Text: Moby Dick by Herman Melville 1851>"
      ]
     },
     "execution_count": 7,
     "metadata": {},
     "output_type": "execute_result"
    }
   ],
   "source": [
    "text1"
   ]
  },
  {
   "cell_type": "code",
   "execution_count": 8,
   "metadata": {},
   "outputs": [
    {
     "data": {
      "text/plain": [
       "260819"
      ]
     },
     "execution_count": 8,
     "metadata": {},
     "output_type": "execute_result"
    }
   ],
   "source": [
    "# Checking the length of words in text1.This contain duplicate words too.\n",
    "len(text1)"
   ]
  },
  {
   "cell_type": "code",
   "execution_count": 9,
   "metadata": {},
   "outputs": [
    {
     "data": {
      "text/plain": [
       "19317"
      ]
     },
     "execution_count": 9,
     "metadata": {},
     "output_type": "execute_result"
    }
   ],
   "source": [
    "# Checking the length of unique words in text1.\n",
    "len(set(text1))"
   ]
  },
  {
   "cell_type": "code",
   "execution_count": 10,
   "metadata": {},
   "outputs": [
    {
     "data": {
      "text/plain": [
       "3.830411128023649"
      ]
     },
     "execution_count": 10,
     "metadata": {},
     "output_type": "execute_result"
    }
   ],
   "source": [
    "# Calclating average word length of a text by dividing sum of length of each word in text by total number of words in text.\n",
    "avg_wordlen = sum(len(w) for w in text1)/len(text1)\n",
    "avg_wordlen"
   ]
  },
  {
   "cell_type": "markdown",
   "metadata": {},
   "source": [
    "## Q27) Define a function called vocab_size(text) that has a single parameter for the text, and which returns the vocabulary size of the text."
   ]
  },
  {
   "cell_type": "code",
   "execution_count": 14,
   "metadata": {},
   "outputs": [],
   "source": [
    "# Creating a function vocab_size(text) that counts only alphabets not the special characters(.,())-\n",
    "def vocab_size(text):\n",
    "    return len(set(w.lower() for w in text if w.isalpha()))"
   ]
  },
  {
   "cell_type": "markdown",
   "metadata": {},
   "source": [
    "#### Examples showing vocabulary size of different texts-"
   ]
  },
  {
   "cell_type": "code",
   "execution_count": 12,
   "metadata": {},
   "outputs": [
    {
     "data": {
      "text/plain": [
       "16948"
      ]
     },
     "execution_count": 12,
     "metadata": {},
     "output_type": "execute_result"
    }
   ],
   "source": [
    "# Calling 'vocab_size' function on text1 to calculate vocabulary size of text1. \n",
    "vocab_size(text1)"
   ]
  },
  {
   "cell_type": "code",
   "execution_count": 13,
   "metadata": {},
   "outputs": [
    {
     "data": {
      "text/plain": [
       "6283"
      ]
     },
     "execution_count": 13,
     "metadata": {},
     "output_type": "execute_result"
    }
   ],
   "source": [
    "# Calling 'vocab_size' function on text1 to calculate vocabulary size of text5. \n",
    "vocab_size(text5)"
   ]
  },
  {
   "cell_type": "markdown",
   "metadata": {},
   "source": [
    "## Q28) Define a function percent(word, text) that calculates how often a given word occurs in a text, and expresses the result as a percentage."
   ]
  },
  {
   "cell_type": "code",
   "execution_count": 15,
   "metadata": {},
   "outputs": [],
   "source": [
    "# Creating a function that calculates percentage how often a word occcurs in a text.\n",
    "def percent(word,text):\n",
    "    word_count=0\n",
    "    for w in text:\n",
    "        if w==word :\n",
    "            word_count+=1\n",
    "    perc= 100*(word_count/len(text))\n",
    "    return perc"
   ]
  },
  {
   "cell_type": "code",
   "execution_count": 16,
   "metadata": {},
   "outputs": [
    {
     "data": {
      "text/plain": [
       "1.7517895552087845"
      ]
     },
     "execution_count": 16,
     "metadata": {},
     "output_type": "execute_result"
    }
   ],
   "source": [
    "# Calling percent function on text1 to check how often 'a' has occured in text1.\n",
    "percent('a',text1)"
   ]
  },
  {
   "cell_type": "code",
   "execution_count": 17,
   "metadata": {},
   "outputs": [
    {
     "data": {
      "text/plain": [
       "0.032206242643365704"
      ]
     },
     "execution_count": 17,
     "metadata": {},
     "output_type": "execute_result"
    }
   ],
   "source": [
    "# Calling percent function on text1 to check how often 'Moby' has occured in text1.\n",
    "percent('Moby',text1)"
   ]
  },
  {
   "cell_type": "markdown",
   "metadata": {},
   "source": [
    "## Q29) We have been using sets to store vocabularies. Try the following Python expression: set(sent3) < set(text1). Experiment with this using different arguments to set(). What does it do? Can you think of a practical application for this?"
   ]
  },
  {
   "cell_type": "markdown",
   "metadata": {},
   "source": [
    "### The comparison operator is to check if one set is a proper subset of the other set. Suppose S1 < S2.\n",
    "### It means S1 is a proper subset of S2 if every element of S1 is in S2 and S2 has at least one additional element, not in S1."
   ]
  },
  {
   "cell_type": "markdown",
   "metadata": {},
   "source": [
    "### When we have list of words it finds out proper subset. So the application can be seen in finding lexicon in a dictionary."
   ]
  },
  {
   "cell_type": "code",
   "execution_count": 18,
   "metadata": {},
   "outputs": [
    {
     "data": {
      "text/plain": [
       "{'.', 'God', 'In', 'and', 'beginning', 'created', 'earth', 'heaven', 'the'}"
      ]
     },
     "execution_count": 18,
     "metadata": {},
     "output_type": "execute_result"
    }
   ],
   "source": [
    "set(sent3) "
   ]
  },
  {
   "cell_type": "code",
   "execution_count": 19,
   "metadata": {},
   "outputs": [
    {
     "data": {
      "text/plain": [
       "True"
      ]
     },
     "execution_count": 19,
     "metadata": {},
     "output_type": "execute_result"
    }
   ],
   "source": [
    "# It means all the unique words in sent3 is present in the set of text1.\n",
    "set(sent3) < set(text1)"
   ]
  },
  {
   "cell_type": "code",
   "execution_count": 24,
   "metadata": {},
   "outputs": [
    {
     "data": {
      "text/plain": [
       "True"
      ]
     },
     "execution_count": 24,
     "metadata": {},
     "output_type": "execute_result"
    }
   ],
   "source": [
    "# Checking a random word 'God' from set(sent3) is present set(text1) or not.\n",
    "'God' in set(text1)"
   ]
  },
  {
   "cell_type": "code",
   "execution_count": 21,
   "metadata": {},
   "outputs": [
    {
     "data": {
      "text/plain": [
       "{'-',\n",
       " ':',\n",
       " 'Citizens',\n",
       " 'Fellow',\n",
       " 'House',\n",
       " 'Representatives',\n",
       " 'Senate',\n",
       " 'and',\n",
       " 'of',\n",
       " 'the'}"
      ]
     },
     "execution_count": 21,
     "metadata": {},
     "output_type": "execute_result"
    }
   ],
   "source": [
    "set(sent4) "
   ]
  },
  {
   "cell_type": "code",
   "execution_count": 22,
   "metadata": {},
   "outputs": [
    {
     "data": {
      "text/plain": [
       "False"
      ]
     },
     "execution_count": 22,
     "metadata": {},
     "output_type": "execute_result"
    }
   ],
   "source": [
    "set(sent4) < set(text1)"
   ]
  },
  {
   "cell_type": "code",
   "execution_count": 23,
   "metadata": {},
   "outputs": [
    {
     "data": {
      "text/plain": [
       "False"
      ]
     },
     "execution_count": 23,
     "metadata": {},
     "output_type": "execute_result"
    }
   ],
   "source": [
    "'Representatives' in set(text1)"
   ]
  },
  {
   "cell_type": "markdown",
   "metadata": {},
   "source": [
    "### If the input of two sets is a single word then it will just compare the occurence of characters but not the ordering of characters since 'set' is an unordered data structure. \n"
   ]
  },
  {
   "cell_type": "code",
   "execution_count": 25,
   "metadata": {},
   "outputs": [
    {
     "data": {
      "text/plain": [
       "True"
      ]
     },
     "execution_count": 25,
     "metadata": {},
     "output_type": "execute_result"
    }
   ],
   "source": [
    "set('play')< set('playing')"
   ]
  },
  {
   "cell_type": "code",
   "execution_count": 26,
   "metadata": {},
   "outputs": [
    {
     "data": {
      "text/plain": [
       "True"
      ]
     },
     "execution_count": 26,
     "metadata": {},
     "output_type": "execute_result"
    }
   ],
   "source": [
    "set('play') < set('plaginy')"
   ]
  },
  {
   "cell_type": "markdown",
   "metadata": {},
   "source": [
    "### Therefore we can see it cannot be used to find the root of word."
   ]
  },
  {
   "cell_type": "code",
   "execution_count": null,
   "metadata": {},
   "outputs": [],
   "source": []
  }
 ],
 "metadata": {
  "instance_type": "ml.t3.medium",
  "kernelspec": {
   "display_name": "Python 3",
   "language": "python",
   "name": "python3"
  },
  "language_info": {
   "codemirror_mode": {
    "name": "ipython",
    "version": 3
   },
   "file_extension": ".py",
   "mimetype": "text/x-python",
   "name": "python",
   "nbconvert_exporter": "python",
   "pygments_lexer": "ipython3",
   "version": "3.7.1"
  }
 },
 "nbformat": 4,
 "nbformat_minor": 4
}
